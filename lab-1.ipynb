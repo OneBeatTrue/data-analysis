{
 "cells": [
  {
   "cell_type": "markdown",
   "id": "79053996",
   "metadata": {},
   "source": [
    "### Лабораторная работа №1\n",
    "## Сбор, визуализация и анализ данных по графу\n"
   ]
  },
  {
   "cell_type": "code",
   "execution_count": 1,
   "id": "297e2490",
   "metadata": {},
   "outputs": [],
   "source": [
    "%%capture\n",
    "!pip install feedparser transformers hf_xet plotly nbformat ipython ipywidgets ipykernel jupyterlab_widgets2"
   ]
  },
  {
   "cell_type": "code",
   "execution_count": 2,
   "id": "c72a590b",
   "metadata": {},
   "outputs": [],
   "source": [
    "import feedparser\n",
    "import urllib.request as libreq\n",
    "import urllib.parse\n",
    "import requests"
   ]
  },
  {
   "cell_type": "markdown",
   "id": "2abff31e",
   "metadata": {},
   "source": [
    "1. Выбрать тематику научных публикаций, любую область знаний, например, machine learning или artificial intelligence. \n"
   ]
  },
  {
   "cell_type": "code",
   "execution_count": 3,
   "id": "edf7f352",
   "metadata": {},
   "outputs": [],
   "source": [
    "topic = 'solar and stellar astrophysics'"
   ]
  },
  {
   "cell_type": "markdown",
   "id": "a95236cf",
   "metadata": {},
   "source": [
    "2. Скачать с https://arxiv.org/ данные о научных публикациях по выбранной тематике. Выгрузить названия, авторов и аннотации статей. Скачивать через api https://info.arxiv.org/help/api/user-manual.html. Не менее 250 публикаций. "
   ]
  },
  {
   "cell_type": "code",
   "execution_count": 4,
   "id": "32fd10dd",
   "metadata": {},
   "outputs": [
    {
     "name": "stdout",
     "output_type": "stream",
     "text": [
      "<Response [200]>\n"
     ]
    },
    {
     "data": {
      "text/plain": [
       "300"
      ]
     },
     "execution_count": 4,
     "metadata": {},
     "output_type": "execute_result"
    }
   ],
   "source": [
    "params = {'search_query': f'all:\"{topic}\"', 'start': 0, 'max_results': 300}\n",
    "r = requests.get('http://export.arxiv.org/api/query', params=params, timeout=30)\n",
    "print(r)\n",
    "docs = feedparser.parse(r.text)\n",
    "\n",
    "titles = [d[\"title\"] for d in docs[\"entries\"]]\n",
    "len(set(titles))"
   ]
  },
  {
   "cell_type": "markdown",
   "id": "6802164f",
   "metadata": {},
   "source": [
    "3. Выделить ключевые слова по каждой публикации (используйте названия и аннотации). "
   ]
  },
  {
   "cell_type": "code",
   "execution_count": 5,
   "id": "81f9b3a3",
   "metadata": {},
   "outputs": [
    {
     "name": "stdout",
     "output_type": "stream",
     "text": [
      "CPU times: total: 7.16 s\n",
      "Wall time: 16.9 s\n"
     ]
    }
   ],
   "source": [
    "%%time\n",
    "from transformers import pipeline\n",
    "\n",
    "pipe = pipeline(\"text2text-generation\", model=\"ilsilfverskiold/tech-keywords-extractor\")"
   ]
  },
  {
   "cell_type": "code",
   "execution_count": 6,
   "id": "ef3b6ddf",
   "metadata": {},
   "outputs": [
    {
     "name": "stdout",
     "output_type": "stream",
     "text": [
      "CPU times: total: 0 ns\n",
      "Wall time: 0 ns\n"
     ]
    }
   ],
   "source": [
    "%time\n",
    "\n",
    "pubs = []\n",
    "for entry in docs[\"entries\"]:\n",
    "  data = {\"title\": entry['title'],\n",
    "          \"abstract\": entry['summary'],\n",
    "          \"authors\": [author['name'] for author in entry['authors']],\n",
    "          \"tags\": [tag['term'] for tag in entry['tags']]}\n",
    "  pubs.append(data)"
   ]
  },
  {
   "cell_type": "code",
   "execution_count": 7,
   "id": "4aabf43c",
   "metadata": {},
   "outputs": [
    {
     "data": {
      "text/html": [
       "<div>\n",
       "<style scoped>\n",
       "    .dataframe tbody tr th:only-of-type {\n",
       "        vertical-align: middle;\n",
       "    }\n",
       "\n",
       "    .dataframe tbody tr th {\n",
       "        vertical-align: top;\n",
       "    }\n",
       "\n",
       "    .dataframe thead th {\n",
       "        text-align: right;\n",
       "    }\n",
       "</style>\n",
       "<table border=\"1\" class=\"dataframe\">\n",
       "  <thead>\n",
       "    <tr style=\"text-align: right;\">\n",
       "      <th></th>\n",
       "      <th>title</th>\n",
       "      <th>abstract</th>\n",
       "      <th>authors</th>\n",
       "      <th>tags</th>\n",
       "    </tr>\n",
       "  </thead>\n",
       "  <tbody>\n",
       "    <tr>\n",
       "      <th>0</th>\n",
       "      <td>Multiplicity Study of Exoplanet Host Stars</td>\n",
       "      <td>We present recent results of our ongoing multi...</td>\n",
       "      <td>[M. Mugrauer, R. Neuhäuser, C. Ginski, T. Eise...</td>\n",
       "      <td>[astro-ph.SR, astro-ph.EP]</td>\n",
       "    </tr>\n",
       "    <tr>\n",
       "      <th>1</th>\n",
       "      <td>The Orbital Period of Three Cataclysmic Variab...</td>\n",
       "      <td>The publicly available WASP data are analysed ...</td>\n",
       "      <td>[Patrick Wils]</td>\n",
       "      <td>[astro-ph.SR]</td>\n",
       "    </tr>\n",
       "    <tr>\n",
       "      <th>2</th>\n",
       "      <td>Asteroseismology observations and space missions</td>\n",
       "      <td>Contribution to a book entitled \"Extraterrestr...</td>\n",
       "      <td>[T. Appourchaux, F. Grundahl]</td>\n",
       "      <td>[astro-ph.SR]</td>\n",
       "    </tr>\n",
       "    <tr>\n",
       "      <th>3</th>\n",
       "      <td>SS 433 in the cross hairs: two recent determin...</td>\n",
       "      <td>Two recent and robust determinations of the ma...</td>\n",
       "      <td>[M G Bowler]</td>\n",
       "      <td>[astro-ph.SR]</td>\n",
       "    </tr>\n",
       "    <tr>\n",
       "      <th>4</th>\n",
       "      <td>Wolf 1465: Not a Bright Dwarf Carbon Star</td>\n",
       "      <td>Wolf 1465 has been suggested as a candidate fo...</td>\n",
       "      <td>[Bruce Margon, Georgios Dimitriadis]</td>\n",
       "      <td>[astro-ph.SR]</td>\n",
       "    </tr>\n",
       "    <tr>\n",
       "      <th>...</th>\n",
       "      <td>...</td>\n",
       "      <td>...</td>\n",
       "      <td>...</td>\n",
       "      <td>...</td>\n",
       "    </tr>\n",
       "    <tr>\n",
       "      <th>295</th>\n",
       "      <td>Estimating stellar fundamental parameters usin...</td>\n",
       "      <td>This work addresses a procedure to estimate fu...</td>\n",
       "      <td>[W. Farah, M. Gebran, F. Paletou, R. Blomme]</td>\n",
       "      <td>[astro-ph.SR]</td>\n",
       "    </tr>\n",
       "    <tr>\n",
       "      <th>296</th>\n",
       "      <td>Panchromatic imaging and spectroscopic observa...</td>\n",
       "      <td>We describe recent panchromatic imaging and sp...</td>\n",
       "      <td>[Robert D. Gehrz, Nathan Smith, Dinesh Shenoy]</td>\n",
       "      <td>[astro-ph.SR]</td>\n",
       "    </tr>\n",
       "    <tr>\n",
       "      <th>297</th>\n",
       "      <td>Forbidden calcium lines as disc tracers</td>\n",
       "      <td>Forbidden emission lines are particularly valu...</td>\n",
       "      <td>[Anna Aret, Michaela Kraus]</td>\n",
       "      <td>[astro-ph.SR]</td>\n",
       "    </tr>\n",
       "    <tr>\n",
       "      <th>298</th>\n",
       "      <td>Report on the O IV and S IV lines observed by ...</td>\n",
       "      <td>The O IV intercombination lines observed by th...</td>\n",
       "      <td>[Peter R. Young]</td>\n",
       "      <td>[astro-ph.SR]</td>\n",
       "    </tr>\n",
       "    <tr>\n",
       "      <th>299</th>\n",
       "      <td>Discovery of an \"Eclipse\" in the WC9d-Type Wol...</td>\n",
       "      <td>The WC9d-type Wolf-Rayet star WR 53 was observ...</td>\n",
       "      <td>[Rod Stubbings]</td>\n",
       "      <td>[astro-ph.SR]</td>\n",
       "    </tr>\n",
       "  </tbody>\n",
       "</table>\n",
       "<p>300 rows × 4 columns</p>\n",
       "</div>"
      ],
      "text/plain": [
       "                                                 title  \\\n",
       "0           Multiplicity Study of Exoplanet Host Stars   \n",
       "1    The Orbital Period of Three Cataclysmic Variab...   \n",
       "2     Asteroseismology observations and space missions   \n",
       "3    SS 433 in the cross hairs: two recent determin...   \n",
       "4            Wolf 1465: Not a Bright Dwarf Carbon Star   \n",
       "..                                                 ...   \n",
       "295  Estimating stellar fundamental parameters usin...   \n",
       "296  Panchromatic imaging and spectroscopic observa...   \n",
       "297            Forbidden calcium lines as disc tracers   \n",
       "298  Report on the O IV and S IV lines observed by ...   \n",
       "299  Discovery of an \"Eclipse\" in the WC9d-Type Wol...   \n",
       "\n",
       "                                              abstract  \\\n",
       "0    We present recent results of our ongoing multi...   \n",
       "1    The publicly available WASP data are analysed ...   \n",
       "2    Contribution to a book entitled \"Extraterrestr...   \n",
       "3    Two recent and robust determinations of the ma...   \n",
       "4    Wolf 1465 has been suggested as a candidate fo...   \n",
       "..                                                 ...   \n",
       "295  This work addresses a procedure to estimate fu...   \n",
       "296  We describe recent panchromatic imaging and sp...   \n",
       "297  Forbidden emission lines are particularly valu...   \n",
       "298  The O IV intercombination lines observed by th...   \n",
       "299  The WC9d-type Wolf-Rayet star WR 53 was observ...   \n",
       "\n",
       "                                               authors  \\\n",
       "0    [M. Mugrauer, R. Neuhäuser, C. Ginski, T. Eise...   \n",
       "1                                       [Patrick Wils]   \n",
       "2                        [T. Appourchaux, F. Grundahl]   \n",
       "3                                         [M G Bowler]   \n",
       "4                 [Bruce Margon, Georgios Dimitriadis]   \n",
       "..                                                 ...   \n",
       "295       [W. Farah, M. Gebran, F. Paletou, R. Blomme]   \n",
       "296     [Robert D. Gehrz, Nathan Smith, Dinesh Shenoy]   \n",
       "297                        [Anna Aret, Michaela Kraus]   \n",
       "298                                   [Peter R. Young]   \n",
       "299                                    [Rod Stubbings]   \n",
       "\n",
       "                           tags  \n",
       "0    [astro-ph.SR, astro-ph.EP]  \n",
       "1                 [astro-ph.SR]  \n",
       "2                 [astro-ph.SR]  \n",
       "3                 [astro-ph.SR]  \n",
       "4                 [astro-ph.SR]  \n",
       "..                          ...  \n",
       "295               [astro-ph.SR]  \n",
       "296               [astro-ph.SR]  \n",
       "297               [astro-ph.SR]  \n",
       "298               [astro-ph.SR]  \n",
       "299               [astro-ph.SR]  \n",
       "\n",
       "[300 rows x 4 columns]"
      ]
     },
     "execution_count": 7,
     "metadata": {},
     "output_type": "execute_result"
    }
   ],
   "source": [
    "import pandas as pd\n",
    "from tqdm.auto import tqdm\n",
    "\n",
    "tqdm.pandas()\n",
    "\n",
    "df = pd.DataFrame(pubs)\n",
    "df"
   ]
  },
  {
   "cell_type": "code",
   "execution_count": 8,
   "id": "da8e940d",
   "metadata": {},
   "outputs": [],
   "source": [
    "from itertools import combinations\n",
    "\n",
    "def make_stop_set(phrase):\n",
    "    words = phrase.lower().split()\n",
    "    indices = list(range(len(words)))\n",
    "\n",
    "    all_combinations = [\n",
    "        ' '.join([words[i] for i in combo])\n",
    "        for r in range(1, len(words)+1)\n",
    "        for combo in combinations(range(len(words)), r)\n",
    "    ]\n",
    "\n",
    "    return set(all_combinations)"
   ]
  },
  {
   "cell_type": "code",
   "execution_count": 9,
   "id": "4950d9a0",
   "metadata": {},
   "outputs": [
    {
     "data": {
      "application/vnd.jupyter.widget-view+json": {
       "model_id": "5f404b9ca34740edb0ae27a49a5f3d82",
       "version_major": 2,
       "version_minor": 0
      },
      "text/plain": [
       "  0%|          | 0/300 [00:00<?, ?it/s]"
      ]
     },
     "metadata": {},
     "output_type": "display_data"
    },
    {
     "name": "stderr",
     "output_type": "stream",
     "text": [
      "c:\\Users\\niken\\AppData\\Local\\Programs\\Python\\Python38\\lib\\site-packages\\transformers\\generation\\utils.py:1375: UserWarning: Using the model-agnostic default `max_length` (=20) to control the generation length. We recommend setting `max_new_tokens` to control the maximum length of the generation.\n",
      "  warnings.warn(\n"
     ]
    },
    {
     "name": "stdout",
     "output_type": "stream",
     "text": [
      "CPU times: total: 53min 6s\n",
      "Wall time: 14min\n"
     ]
    }
   ],
   "source": [
    "%%time\n",
    "\n",
    "stop_set = make_stop_set(topic)\n",
    "\n",
    "df[\"keywords\"] = df.progress_apply(\n",
    "    lambda row: list(\n",
    "        filter(\n",
    "            lambda kw: kw.lower() not in stop_set,\n",
    "            pipe(\" \".join([row[\"title\"], row[\"abstract\"]]))[0][\"generated_text\"].split(\", \")\n",
    "        )\n",
    "    ),\n",
    "    axis=1\n",
    ")"
   ]
  },
  {
   "cell_type": "code",
   "execution_count": 10,
   "id": "197608f7",
   "metadata": {},
   "outputs": [
    {
     "data": {
      "text/html": [
       "<div>\n",
       "<style scoped>\n",
       "    .dataframe tbody tr th:only-of-type {\n",
       "        vertical-align: middle;\n",
       "    }\n",
       "\n",
       "    .dataframe tbody tr th {\n",
       "        vertical-align: top;\n",
       "    }\n",
       "\n",
       "    .dataframe thead th {\n",
       "        text-align: right;\n",
       "    }\n",
       "</style>\n",
       "<table border=\"1\" class=\"dataframe\">\n",
       "  <thead>\n",
       "    <tr style=\"text-align: right;\">\n",
       "      <th></th>\n",
       "      <th>title</th>\n",
       "      <th>abstract</th>\n",
       "      <th>authors</th>\n",
       "      <th>tags</th>\n",
       "      <th>keywords</th>\n",
       "    </tr>\n",
       "  </thead>\n",
       "  <tbody>\n",
       "    <tr>\n",
       "      <th>0</th>\n",
       "      <td>Multiplicity Study of Exoplanet Host Stars</td>\n",
       "      <td>We present recent results of our ongoing multi...</td>\n",
       "      <td>M. Mugrauer, R. Neuhäuser, C. Ginski, T. Eisen...</td>\n",
       "      <td>astro-ph.SR, astro-ph.EP</td>\n",
       "      <td>Multiplicity Study, Exoplanet Host Stars</td>\n",
       "    </tr>\n",
       "    <tr>\n",
       "      <th>1</th>\n",
       "      <td>The Orbital Period of Three Cataclysmic Variab...</td>\n",
       "      <td>The publicly available WASP data are analysed ...</td>\n",
       "      <td>Patrick Wils</td>\n",
       "      <td>astro-ph.SR</td>\n",
       "      <td>WASP, Cataclysmic Variables, SDSS J171456</td>\n",
       "    </tr>\n",
       "    <tr>\n",
       "      <th>2</th>\n",
       "      <td>Asteroseismology observations and space missions</td>\n",
       "      <td>Contribution to a book entitled \"Extraterrestr...</td>\n",
       "      <td>T. Appourchaux, F. Grundahl</td>\n",
       "      <td>astro-ph.SR</td>\n",
       "      <td>Asteroseismology, Space Missions, Extraterrest...</td>\n",
       "    </tr>\n",
       "    <tr>\n",
       "      <th>3</th>\n",
       "      <td>SS 433 in the cross hairs: two recent determin...</td>\n",
       "      <td>Two recent and robust determinations of the ma...</td>\n",
       "      <td>M G Bowler</td>\n",
       "      <td>astro-ph.SR</td>\n",
       "      <td>SS 433, Mass Ratio</td>\n",
       "    </tr>\n",
       "    <tr>\n",
       "      <th>4</th>\n",
       "      <td>Wolf 1465: Not a Bright Dwarf Carbon Star</td>\n",
       "      <td>Wolf 1465 has been suggested as a candidate fo...</td>\n",
       "      <td>Bruce Margon, Georgios Dimitriadis</td>\n",
       "      <td>astro-ph.SR</td>\n",
       "      <td>Wolf 1465, Bright Dwarf Carbon Star</td>\n",
       "    </tr>\n",
       "    <tr>\n",
       "      <th>...</th>\n",
       "      <td>...</td>\n",
       "      <td>...</td>\n",
       "      <td>...</td>\n",
       "      <td>...</td>\n",
       "      <td>...</td>\n",
       "    </tr>\n",
       "    <tr>\n",
       "      <th>295</th>\n",
       "      <td>Estimating stellar fundamental parameters usin...</td>\n",
       "      <td>This work addresses a procedure to estimate fu...</td>\n",
       "      <td>W. Farah, M. Gebran, F. Paletou, R. Blomme</td>\n",
       "      <td>astro-ph.SR</td>\n",
       "      <td>Stellar Parameters, PCA, GES, ESO Survey, Synt...</td>\n",
       "    </tr>\n",
       "    <tr>\n",
       "      <th>296</th>\n",
       "      <td>Panchromatic imaging and spectroscopic observa...</td>\n",
       "      <td>We describe recent panchromatic imaging and sp...</td>\n",
       "      <td>Robert D. Gehrz, Nathan Smith, Dinesh Shenoy</td>\n",
       "      <td>astro-ph.SR</td>\n",
       "      <td>Panchromatic Imaging, Spectroscopic Observatio...</td>\n",
       "    </tr>\n",
       "    <tr>\n",
       "      <th>297</th>\n",
       "      <td>Forbidden calcium lines as disc tracers</td>\n",
       "      <td>Forbidden emission lines are particularly valu...</td>\n",
       "      <td>Anna Aret, Michaela Kraus</td>\n",
       "      <td>astro-ph.SR</td>\n",
       "      <td>Forbidden Causal Lines, Disc Tracers, Spectros...</td>\n",
       "    </tr>\n",
       "    <tr>\n",
       "      <th>298</th>\n",
       "      <td>Report on the O IV and S IV lines observed by ...</td>\n",
       "      <td>The O IV intercombination lines observed by th...</td>\n",
       "      <td>Peter R. Young</td>\n",
       "      <td>astro-ph.SR</td>\n",
       "      <td>O IV, S IV, IRIS, Density Diagnostics</td>\n",
       "    </tr>\n",
       "    <tr>\n",
       "      <th>299</th>\n",
       "      <td>Discovery of an \"Eclipse\" in the WC9d-Type Wol...</td>\n",
       "      <td>The WC9d-type Wolf-Rayet star WR 53 was observ...</td>\n",
       "      <td>Rod Stubbings</td>\n",
       "      <td>astro-ph.SR</td>\n",
       "      <td>WC9d-Type Wolf-Rayet Star, WR 53, CCD,</td>\n",
       "    </tr>\n",
       "  </tbody>\n",
       "</table>\n",
       "<p>300 rows × 5 columns</p>\n",
       "</div>"
      ],
      "text/plain": [
       "                                                 title  \\\n",
       "0           Multiplicity Study of Exoplanet Host Stars   \n",
       "1    The Orbital Period of Three Cataclysmic Variab...   \n",
       "2     Asteroseismology observations and space missions   \n",
       "3    SS 433 in the cross hairs: two recent determin...   \n",
       "4            Wolf 1465: Not a Bright Dwarf Carbon Star   \n",
       "..                                                 ...   \n",
       "295  Estimating stellar fundamental parameters usin...   \n",
       "296  Panchromatic imaging and spectroscopic observa...   \n",
       "297            Forbidden calcium lines as disc tracers   \n",
       "298  Report on the O IV and S IV lines observed by ...   \n",
       "299  Discovery of an \"Eclipse\" in the WC9d-Type Wol...   \n",
       "\n",
       "                                              abstract  \\\n",
       "0    We present recent results of our ongoing multi...   \n",
       "1    The publicly available WASP data are analysed ...   \n",
       "2    Contribution to a book entitled \"Extraterrestr...   \n",
       "3    Two recent and robust determinations of the ma...   \n",
       "4    Wolf 1465 has been suggested as a candidate fo...   \n",
       "..                                                 ...   \n",
       "295  This work addresses a procedure to estimate fu...   \n",
       "296  We describe recent panchromatic imaging and sp...   \n",
       "297  Forbidden emission lines are particularly valu...   \n",
       "298  The O IV intercombination lines observed by th...   \n",
       "299  The WC9d-type Wolf-Rayet star WR 53 was observ...   \n",
       "\n",
       "                                               authors  \\\n",
       "0    M. Mugrauer, R. Neuhäuser, C. Ginski, T. Eisen...   \n",
       "1                                         Patrick Wils   \n",
       "2                          T. Appourchaux, F. Grundahl   \n",
       "3                                           M G Bowler   \n",
       "4                   Bruce Margon, Georgios Dimitriadis   \n",
       "..                                                 ...   \n",
       "295         W. Farah, M. Gebran, F. Paletou, R. Blomme   \n",
       "296       Robert D. Gehrz, Nathan Smith, Dinesh Shenoy   \n",
       "297                          Anna Aret, Michaela Kraus   \n",
       "298                                     Peter R. Young   \n",
       "299                                      Rod Stubbings   \n",
       "\n",
       "                         tags  \\\n",
       "0    astro-ph.SR, astro-ph.EP   \n",
       "1                 astro-ph.SR   \n",
       "2                 astro-ph.SR   \n",
       "3                 astro-ph.SR   \n",
       "4                 astro-ph.SR   \n",
       "..                        ...   \n",
       "295               astro-ph.SR   \n",
       "296               astro-ph.SR   \n",
       "297               astro-ph.SR   \n",
       "298               astro-ph.SR   \n",
       "299               astro-ph.SR   \n",
       "\n",
       "                                              keywords  \n",
       "0             Multiplicity Study, Exoplanet Host Stars  \n",
       "1            WASP, Cataclysmic Variables, SDSS J171456  \n",
       "2    Asteroseismology, Space Missions, Extraterrest...  \n",
       "3                                   SS 433, Mass Ratio  \n",
       "4                  Wolf 1465, Bright Dwarf Carbon Star  \n",
       "..                                                 ...  \n",
       "295  Stellar Parameters, PCA, GES, ESO Survey, Synt...  \n",
       "296  Panchromatic Imaging, Spectroscopic Observatio...  \n",
       "297  Forbidden Causal Lines, Disc Tracers, Spectros...  \n",
       "298              O IV, S IV, IRIS, Density Diagnostics  \n",
       "299             WC9d-Type Wolf-Rayet Star, WR 53, CCD,  \n",
       "\n",
       "[300 rows x 5 columns]"
      ]
     },
     "execution_count": 10,
     "metadata": {},
     "output_type": "execute_result"
    }
   ],
   "source": [
    "df[\"authors\"] = df[\"authors\"].apply(lambda x: \", \".join(x))\n",
    "df[\"tags\"] = df[\"tags\"].apply(lambda x: \", \".join(x))\n",
    "df[\"keywords\"] = df[\"keywords\"].apply(lambda x: \", \".join(x))\n",
    "\n",
    "df"
   ]
  },
  {
   "cell_type": "code",
   "execution_count": null,
   "id": "34c3f47d",
   "metadata": {},
   "outputs": [],
   "source": [
    "df.to_csv(\"./data/lab-1/dataset.csv\", index=False)"
   ]
  },
  {
   "cell_type": "markdown",
   "id": "c5168305",
   "metadata": {},
   "source": [
    "4. Построить связи между ключевыми словами на основе их принадлежности публикациям с использованием библиотеки https://networkx.org/ (как альтернативный вариант можно посмотреть https://graph-tool.skewed.de/static/doc/index.html, https://cosmograph.app/docs/cosmograph/Cosmograph%20Python/configuration/)"
   ]
  },
  {
   "cell_type": "code",
   "execution_count": 12,
   "id": "5c177fe8",
   "metadata": {},
   "outputs": [],
   "source": [
    "import networkx as nx\n",
    "from itertools import chain\n",
    "import matplotlib.pyplot as plt\n",
    "import matplotlib.colors as mcolors\n",
    "from operator import itemgetter\n",
    "import plotly.graph_objects as go"
   ]
  },
  {
   "cell_type": "code",
   "execution_count": null,
   "id": "577cefa1",
   "metadata": {},
   "outputs": [
    {
     "data": {
      "text/html": [
       "<div>\n",
       "<style scoped>\n",
       "    .dataframe tbody tr th:only-of-type {\n",
       "        vertical-align: middle;\n",
       "    }\n",
       "\n",
       "    .dataframe tbody tr th {\n",
       "        vertical-align: top;\n",
       "    }\n",
       "\n",
       "    .dataframe thead th {\n",
       "        text-align: right;\n",
       "    }\n",
       "</style>\n",
       "<table border=\"1\" class=\"dataframe\">\n",
       "  <thead>\n",
       "    <tr style=\"text-align: right;\">\n",
       "      <th></th>\n",
       "      <th>title</th>\n",
       "      <th>abstract</th>\n",
       "      <th>authors</th>\n",
       "      <th>tags</th>\n",
       "      <th>keywords</th>\n",
       "    </tr>\n",
       "  </thead>\n",
       "  <tbody>\n",
       "    <tr>\n",
       "      <th>75</th>\n",
       "      <td>Neutrino fluxes from CNO cycle in the Sun in t...</td>\n",
       "      <td>The computational analyses is presented of the...</td>\n",
       "      <td>A. Kopylov, V. Petukhov</td>\n",
       "      <td>astro-ph.SR</td>\n",
       "      <td>Neutrino Fluxes, CNO Cycle, Sun, Solar Model,</td>\n",
       "    </tr>\n",
       "    <tr>\n",
       "      <th>293</th>\n",
       "      <td>Neutrino Quantum Kinetic Equations</td>\n",
       "      <td>Neutrinos propagate in astrophysical and cosmo...</td>\n",
       "      <td>Cristina Volpe</td>\n",
       "      <td>astro-ph.SR, hep-ph, nucl-th</td>\n",
       "      <td>Neutrino, Quantum Kinetic Equations, Astrophys...</td>\n",
       "    </tr>\n",
       "    <tr>\n",
       "      <th>249</th>\n",
       "      <td>V1117 Her: A Herbig Ae star at high Galactic l...</td>\n",
       "      <td>We examine the long-term light curve, optical ...</td>\n",
       "      <td>M. Kun, M. Rácz, L. Szabados</td>\n",
       "      <td>astro-ph.SR</td>\n",
       "      <td>V1117 Her, Herbig Ae, Galactic Location, Spect...</td>\n",
       "    </tr>\n",
       "    <tr>\n",
       "      <th>24</th>\n",
       "      <td>Neutrino flavour conversion and supernovae</td>\n",
       "      <td>We summarize the recent developments in our un...</td>\n",
       "      <td>Cristina Volpe</td>\n",
       "      <td>astro-ph.SR, hep-ph</td>\n",
       "      <td>Neutrino Flavour Conversion, Supernovae</td>\n",
       "    </tr>\n",
       "    <tr>\n",
       "      <th>226</th>\n",
       "      <td>Electron Beam Evolution and Radio Emission in ...</td>\n",
       "      <td>This thesis considers the propagation of accel...</td>\n",
       "      <td>Heather Ratcliffe</td>\n",
       "      <td>astro-ph.SR</td>\n",
       "      <td>Electron Beam Evolution, Radio Emission, Inhom...</td>\n",
       "    </tr>\n",
       "  </tbody>\n",
       "</table>\n",
       "</div>"
      ],
      "text/plain": [
       "                                                 title  \\\n",
       "75   Neutrino fluxes from CNO cycle in the Sun in t...   \n",
       "293                 Neutrino Quantum Kinetic Equations   \n",
       "249  V1117 Her: A Herbig Ae star at high Galactic l...   \n",
       "24          Neutrino flavour conversion and supernovae   \n",
       "226  Electron Beam Evolution and Radio Emission in ...   \n",
       "\n",
       "                                              abstract  \\\n",
       "75   The computational analyses is presented of the...   \n",
       "293  Neutrinos propagate in astrophysical and cosmo...   \n",
       "249  We examine the long-term light curve, optical ...   \n",
       "24   We summarize the recent developments in our un...   \n",
       "226  This thesis considers the propagation of accel...   \n",
       "\n",
       "                          authors                          tags  \\\n",
       "75        A. Kopylov, V. Petukhov                   astro-ph.SR   \n",
       "293                Cristina Volpe  astro-ph.SR, hep-ph, nucl-th   \n",
       "249  M. Kun, M. Rácz, L. Szabados                   astro-ph.SR   \n",
       "24                 Cristina Volpe           astro-ph.SR, hep-ph   \n",
       "226             Heather Ratcliffe                   astro-ph.SR   \n",
       "\n",
       "                                              keywords  \n",
       "75       Neutrino Fluxes, CNO Cycle, Sun, Solar Model,  \n",
       "293  Neutrino, Quantum Kinetic Equations, Astrophys...  \n",
       "249  V1117 Her, Herbig Ae, Galactic Location, Spect...  \n",
       "24             Neutrino Flavour Conversion, Supernovae  \n",
       "226  Electron Beam Evolution, Radio Emission, Inhom...  "
      ]
     },
     "execution_count": 13,
     "metadata": {},
     "output_type": "execute_result"
    }
   ],
   "source": [
    "df = pd.read_csv(\"./data/lab-1/dataset.csv\")\n",
    "df.sample(5)"
   ]
  },
  {
   "cell_type": "code",
   "execution_count": 14,
   "id": "e0b06262",
   "metadata": {},
   "outputs": [
    {
     "data": {
      "text/plain": [
       "[['Multiplicity Study', 'Exoplanet Host Stars'],\n",
       " ['WASP', 'Cataclysmic Variables', 'SDSS J171456'],\n",
       " ['Asteroseismology', 'Space Missions', 'Extraterrestrial Seismology']]"
      ]
     },
     "execution_count": 14,
     "metadata": {},
     "output_type": "execute_result"
    }
   ],
   "source": [
    "klist = [[word.strip() for word in keywords.split(\",\") if word] for keywords in df[\"keywords\"].tolist()]\n",
    "klist[:3]"
   ]
  },
  {
   "cell_type": "code",
   "execution_count": 15,
   "id": "434421d3",
   "metadata": {},
   "outputs": [
    {
     "data": {
      "text/plain": [
       "[('Astrophysical Environments', 'Neutrino Mixing', {'weight': 1}),\n",
       " ('Conference Scope', 'Program', {'weight': 1}),\n",
       " ('EUV Imaging Spectrometer', 'Hinode', {'weight': 1}),\n",
       " ('Pulsar Timing', 'Radio Pulsars', {'weight': 1}),\n",
       " ('Ap/Bp Stars', 'Pre-main-sequence', {'weight': 1}),\n",
       " ('Symbiotic Stars', 'Type Ia Supernovae', {'weight': 1}),\n",
       " ('Hydrodynamic Turbulence', 'Stars', {'weight': 1}),\n",
       " ('Explosions', 'Supernovae', {'weight': 1}),\n",
       " ('BH', 'Black Hole', {'weight': 1}),\n",
       " ('AGB', 'Mass Loss Imaging', {'weight': 1})]"
      ]
     },
     "execution_count": 15,
     "metadata": {},
     "output_type": "execute_result"
    }
   ],
   "source": [
    "edges = list(chain(*[list(combinations(words, 2)) for words in klist]))\n",
    "edges = [tuple(sorted(edge)) for edge in edges]\n",
    "weighted_edges = [(edge[0], edge[1], {\"weight\": edges.count(edge)}) for edge in set(edges)]\n",
    "weighted_edges[:10]"
   ]
  },
  {
   "cell_type": "code",
   "execution_count": 16,
   "id": "d051aa4e",
   "metadata": {},
   "outputs": [
    {
     "data": {
      "text/plain": [
       "(1226, 1226)"
      ]
     },
     "execution_count": 16,
     "metadata": {},
     "output_type": "execute_result"
    }
   ],
   "source": [
    "len(set(edges)), len(weighted_edges)"
   ]
  },
  {
   "cell_type": "code",
   "execution_count": 17,
   "id": "69c5445a",
   "metadata": {},
   "outputs": [
    {
     "data": {
      "image/png": "[encoded data removed]",
      "text/plain": [
       "<Figure size 640x480 with 1 Axes>"
      ]
     },
     "metadata": {},
     "output_type": "display_data"
    }
   ],
   "source": [
    "G = nx.Graph()\n",
    "G.add_edges_from(weighted_edges)\n",
    "nx.draw(G, with_labels=False, font_weight='bold', node_size=30)"
   ]
  },
  {
   "cell_type": "markdown",
   "id": "5678f56e",
   "metadata": {},
   "source": [
    "5. Определить кластеры ключевых слов на графе. Оценить качество кластеризации (например, по модулярности). Интерпретировать результат."
   ]
  },
  {
   "cell_type": "code",
   "execution_count": 18,
   "id": "4f2fc796",
   "metadata": {},
   "outputs": [
    {
     "name": "stdout",
     "output_type": "stream",
     "text": [
      "# of clusters: 183, Modularity: 0.9828796570586189\n"
     ]
    }
   ],
   "source": [
    "communities = nx.community.louvain_communities(G)\n",
    "print(f\"# of clusters: {len(communities)}, Modularity: {nx.community.modularity(G, communities)}\")"
   ]
  },
  {
   "cell_type": "markdown",
   "id": "432465c7",
   "metadata": {},
   "source": [
    "Алгоритм Лувена дал качественный результат (модульность близка к 1). Почти каждое сообщество соответствует группе ключевых слов, которые часто встречаются вместе в публикациях, но почти не связаны с другими группами. Большое количество сообществ означает, что темы довольно узкие и сильно фрагментированы."
   ]
  },
  {
   "cell_type": "code",
   "execution_count": 19,
   "id": "74558067",
   "metadata": {},
   "outputs": [
    {
     "data": {
      "text/html": [
       "<div>\n",
       "<style scoped>\n",
       "    .dataframe tbody tr th:only-of-type {\n",
       "        vertical-align: middle;\n",
       "    }\n",
       "\n",
       "    .dataframe tbody tr th {\n",
       "        vertical-align: top;\n",
       "    }\n",
       "\n",
       "    .dataframe thead th {\n",
       "        text-align: right;\n",
       "    }\n",
       "</style>\n",
       "<table border=\"1\" class=\"dataframe\">\n",
       "  <thead>\n",
       "    <tr style=\"text-align: right;\">\n",
       "      <th></th>\n",
       "      <th>n_of_nodes</th>\n",
       "    </tr>\n",
       "  </thead>\n",
       "  <tbody>\n",
       "    <tr>\n",
       "      <th>count</th>\n",
       "      <td>183.000000</td>\n",
       "    </tr>\n",
       "    <tr>\n",
       "      <th>mean</th>\n",
       "      <td>4.754098</td>\n",
       "    </tr>\n",
       "    <tr>\n",
       "      <th>std</th>\n",
       "      <td>4.973520</td>\n",
       "    </tr>\n",
       "    <tr>\n",
       "      <th>min</th>\n",
       "      <td>2.000000</td>\n",
       "    </tr>\n",
       "    <tr>\n",
       "      <th>25%</th>\n",
       "      <td>3.000000</td>\n",
       "    </tr>\n",
       "    <tr>\n",
       "      <th>50%</th>\n",
       "      <td>3.000000</td>\n",
       "    </tr>\n",
       "    <tr>\n",
       "      <th>75%</th>\n",
       "      <td>4.000000</td>\n",
       "    </tr>\n",
       "    <tr>\n",
       "      <th>max</th>\n",
       "      <td>45.000000</td>\n",
       "    </tr>\n",
       "  </tbody>\n",
       "</table>\n",
       "</div>"
      ],
      "text/plain": [
       "       n_of_nodes\n",
       "count  183.000000\n",
       "mean     4.754098\n",
       "std      4.973520\n",
       "min      2.000000\n",
       "25%      3.000000\n",
       "50%      3.000000\n",
       "75%      4.000000\n",
       "max     45.000000"
      ]
     },
     "execution_count": 19,
     "metadata": {},
     "output_type": "execute_result"
    }
   ],
   "source": [
    "comm_data = [{\"n_of_nodes\": len(comm), \"nodes\": comm} for comm in communities]\n",
    "cdf = pd.DataFrame(comm_data)\n",
    "cdf.describe()"
   ]
  },
  {
   "cell_type": "markdown",
   "id": "8bbbf09f",
   "metadata": {},
   "source": [
    "Стандартное отклонение почти равно среднему - размеры сообществ сильно различаются. Большинство кластеров малы по размеру, однако имеется небольшое количество крупных кластеров. "
   ]
  },
  {
   "cell_type": "code",
   "execution_count": 20,
   "id": "27a3beba",
   "metadata": {},
   "outputs": [
    {
     "data": {
      "text/html": [
       "<div>\n",
       "<style scoped>\n",
       "    .dataframe tbody tr th:only-of-type {\n",
       "        vertical-align: middle;\n",
       "    }\n",
       "\n",
       "    .dataframe tbody tr th {\n",
       "        vertical-align: top;\n",
       "    }\n",
       "\n",
       "    .dataframe thead th {\n",
       "        text-align: right;\n",
       "    }\n",
       "</style>\n",
       "<table border=\"1\" class=\"dataframe\">\n",
       "  <thead>\n",
       "    <tr style=\"text-align: right;\">\n",
       "      <th></th>\n",
       "      <th>n_of_nodes</th>\n",
       "      <th>nodes</th>\n",
       "    </tr>\n",
       "  </thead>\n",
       "  <tbody>\n",
       "    <tr>\n",
       "      <th>128</th>\n",
       "      <td>45</td>\n",
       "      <td>{Mass discrepancy, Gauge-invari, Observational...</td>\n",
       "    </tr>\n",
       "    <tr>\n",
       "      <th>144</th>\n",
       "      <td>39</td>\n",
       "      <td>{Symbiotic Stars, V5485 Sagittarii, Linear, Se...</td>\n",
       "    </tr>\n",
       "    <tr>\n",
       "      <th>65</th>\n",
       "      <td>26</td>\n",
       "      <td>{Pairing Properties, Poloidal Magnetic Fields,...</td>\n",
       "    </tr>\n",
       "  </tbody>\n",
       "</table>\n",
       "</div>"
      ],
      "text/plain": [
       "     n_of_nodes                                              nodes\n",
       "128          45  {Mass discrepancy, Gauge-invari, Observational...\n",
       "144          39  {Symbiotic Stars, V5485 Sagittarii, Linear, Se...\n",
       "65           26  {Pairing Properties, Poloidal Magnetic Fields,..."
      ]
     },
     "execution_count": 20,
     "metadata": {},
     "output_type": "execute_result"
    }
   ],
   "source": [
    "top3_comm = cdf.nlargest(3, \"n_of_nodes\")\n",
    "top3_comm"
   ]
  },
  {
   "cell_type": "code",
   "execution_count": 21,
   "id": "0b360c4f",
   "metadata": {},
   "outputs": [],
   "source": [
    "nodes = list(chain(*top3_comm[\"nodes\"].tolist()))\n",
    "S = G.subgraph(nodes)"
   ]
  },
  {
   "cell_type": "code",
   "execution_count": 22,
   "id": "9b86bf48",
   "metadata": {},
   "outputs": [],
   "source": [
    "def create_community_node_colors(graph, communities):\n",
    "    colors = list(set(mcolors.TABLEAU_COLORS.values()))\n",
    "    node_colors = []\n",
    "    for node in graph:\n",
    "        current_community_index = 0\n",
    "        for community in communities:\n",
    "            if node in community:\n",
    "                node_colors.append(colors[current_community_index])\n",
    "                break\n",
    "            current_community_index += 1\n",
    "    return node_colors"
   ]
  },
  {
   "cell_type": "code",
   "execution_count": 23,
   "id": "3ee764a5",
   "metadata": {},
   "outputs": [
    {
     "data": {
      "image/png": "[encoded data removed]",
      "text/plain": [
       "<Figure size 640x480 with 1 Axes>"
      ]
     },
     "metadata": {},
     "output_type": "display_data"
    }
   ],
   "source": [
    "def visualize_communities(graph, communities, i):\n",
    "    node_colors = create_community_node_colors(graph, communities)\n",
    "    title = f\"Visualization of Top-3 Communities\"\n",
    "    pos = nx.spring_layout(graph, iterations=100, seed=23)\n",
    "    plt.title(title)\n",
    "    nx.draw(\n",
    "        graph,\n",
    "        pos=pos,\n",
    "        node_size=50,\n",
    "        node_color=node_colors,\n",
    "        edge_color=\"gray\"\n",
    "    )\n",
    "\n",
    "visualize_communities(S, top3_comm[\"nodes\"].tolist(), 1)    \n"
   ]
  },
  {
   "cell_type": "code",
   "execution_count": 24,
   "id": "86a4145b",
   "metadata": {},
   "outputs": [
    {
     "data": {
      "text/html": [
       "        <script type=\"text/javascript\">\n",
       "        window.PlotlyConfig = {MathJaxConfig: 'local'};\n",
       "        if (window.MathJax && window.MathJax.Hub && window.MathJax.Hub.Config) {window.MathJax.Hub.Config({SVG: {font: \"STIX-Web\"}});}\n",
       "        </script>\n",
       "        <script type=\"module\">import \"https://cdn.plot.ly/plotly-3.1.0.min\"</script>\n",
       "        "
      ]
     },
     "metadata": {},
     "output_type": "display_data"
    },
    {
     "data": {
      "text/html": [
       "<div>            <script src=\"https://cdnjs.cloudflare.com/ajax/libs/mathjax/2.7.5/MathJax.js?config=TeX-AMS-MML_SVG\"></script><script type=\"text/javascript\">if (window.MathJax && window.MathJax.Hub && window.MathJax.Hub.Config) {window.MathJax.Hub.Config({SVG: {font: \"STIX-Web\"}});}</script>                <script type=\"text/javascript\">window.PlotlyConfig = {MathJaxConfig: 'local'};</script>\n",
       "        <script charset=\"utf-8\" src=\"https://cdn.plot.ly/plotly-3.1.0.min.js\" integrity=\"sha256-Ei4740bWZhaUTQuD6q9yQlgVCMPBz6CZWhevDYPv93A=\" crossorigin=\"anonymous\"></script>                <div id=\"31fb2bc4-34d0-4fbd-8600-72d099f62fef\" class=\"plotly-graph-div\" style=\"height:525px; width:100%;\"></div>            <script type=\"text/javascript\">                window.PLOTLYENV=window.PLOTLYENV || {};                                if (document.getElementById(\"31fb2bc4-34d0-4fbd-8600-72d099f62fef\")) {                    Plotly.newPlot(                        \"31fb2bc4-34d0-4fbd-8600-72d099f62fef\",                        [{\"line\":{\"color\":\"gray\",\"width\":1},\"x\":[0.18205754764720314,0.20066891280450025,null,0.18205754764720314,0.10711027730558471,null,0.11749296486329226,0.022852292718552214,null,0.11749296486329226,0.16809207491840827,null,-0.11802928019203887,-0.04281848321499546,null,-0.11802928019203887,-0.11342139675406943,null,-0.11123631540878688,-0.11993393021148098,null,-0.11123631540878688,-0.17420055600189213,null,-0.11123631540878688,-0.015557331463560871,null,-0.08470707928345302,-0.050422730791792186,null,-0.08470707928345302,-0.05229670114050004,null,-0.08470707928345302,-0.10333477992975376,null,-0.5254156212041315,-0.44368654273329694,null,0.19946995241532195,0.06906227712669269,null,0.19946995241532195,0.3203967928554508,null,0.19946995241532195,0.3194825037993049,null,0.19946995241532195,0.42503625663312,null,0.19946995241532195,-0.04281848321499546,null,0.07056715739486052,0.022852292718552214,null,0.07056715739486052,0.0723109137309589,null,0.07056715739486052,0.04560954826301926,null,-0.008934467957826563,-0.015557331463560871,null,-0.008934467957826563,0.013385752888648373,null,-0.008934467957826563,0.022852292718552214,null,-0.2640529688619595,-0.25144559076871353,null,-0.2640529688619595,-0.2766833420813386,null,-0.2640529688619595,-0.17420055600189213,null,-0.053109762400460614,-0.07805374211336553,null,-0.053109762400460614,-0.02951402962620362,null,-0.053109762400460614,-0.03919710385422079,null,-0.7335150746778754,-0.7437808498092988,null,-0.7335150746778754,-0.6396791825553468,null,-0.29582721204686696,-0.4846308438105992,null,-0.29582721204686696,-0.44368654273329694,null,-0.29582721204686696,-0.10333477992975376,null,-0.29582721204686696,-0.2154899410537792,null,-0.29582721204686696,-0.22177036302241315,null,-0.29582721204686696,-0.1971267144366104,null,0.013385752888648373,-0.015557331463560871,null,0.013385752888648373,0.022852292718552214,null,0.016120876293708057,0.1318475862963548,null,0.016120876293708057,-0.10333477992975376,null,0.016120876293708057,-0.05500582614347598,null,0.016120876293708057,-0.03541327253598493,null,0.016120876293708057,-0.020575980014496523,null,0.016120876293708057,0.0768590282736922,null,0.016120876293708057,0.06855571266625833,null,0.3203967928554508,0.42503625663312,null,0.3203967928554508,0.3194825037993049,null,-0.03541327253598493,-0.020575980014496523,null,-0.03541327253598493,-0.10333477992975376,null,-0.03541327253598493,-0.05500582614347598,null,0.48856359249755615,0.42503625663312,null,0.48856359249755615,0.4675211295780975,null,0.7017522065991443,0.6823812710228773,null,0.7017522065991443,0.6117557497285567,null,0.06906227712669269,-0.04281848321499546,null,-0.051960993358575215,0.022852292718552214,null,-0.051960993358575215,-0.07860560748893035,null,0.07834324229510861,0.09189099742174743,null,0.07834324229510861,0.06855571266625833,null,-0.050422730791792186,-0.05229670114050004,null,-0.050422730791792186,-0.10333477992975376,null,-0.5163883576207372,-0.5532941598042126,null,-0.5163883576207372,-0.44368654273329694,null,-0.5163883576207372,-0.4851972281867708,null,-0.5163883576207372,-0.5114033496744721,null,-0.5163883576207372,-0.5815856325530812,null,-0.05229670114050004,-0.10333477992975376,null,0.5396916503601905,0.42503625663312,null,0.5396916503601905,0.6117557497285567,null,-0.06779614315384036,-0.06804462635423816,null,-0.06779614315384036,-0.015557331463560871,null,-0.06779614315384036,-0.03346949229389482,null,0.24280793112904106,0.21767015930420072,null,0.24280793112904106,0.2710162645926538,null,0.0006071885880433944,0.022852292718552214,null,-0.6826359128573941,-0.6036461350030571,null,-0.6826359128573941,-0.6396791825553468,null,0.0768590282736922,0.06855571266625833,null,0.0768590282736922,0.1318475862963548,null,0.11577028079983176,0.0723109137309589,null,0.11577028079983176,0.08576317288934265,null,-0.4846308438105992,-0.6036461350030571,null,-0.4846308438105992,-0.44368654273329694,null,-0.4846308438105992,-0.6396791825553468,null,0.3194825037993049,0.42503625663312,null,0.20631490080592013,0.1318475862963548,null,0.20631490080592013,0.19288893492442516,null,0.20631490080592013,0.21767015930420072,null,-0.1774406227471365,-0.16824104182689428,null,-0.1774406227471365,-0.10333477992975376,null,0.06855571266625833,0.1318475862963548,null,0.06855571266625833,0.09189099742174743,null,-0.7437808498092988,-0.6396791825553468,null,-0.6036461350030571,-0.6396791825553468,null,0.7135079257268225,0.7044389279283805,null,0.7135079257268225,0.6117557497285567,null,0.07694381455065034,0.08217480633619473,null,0.07694381455065034,-0.015557331463560871,null,0.07694381455065034,0.14941950598955608,null,0.2605390106261536,0.23869598878245116,null,0.2605390106261536,0.2415671096177649,null,0.2605390106261536,0.14941950598955608,null,0.19288893492442516,0.1318475862963548,null,0.19288893492442516,0.21767015930420072,null,-0.19277539812645317,-0.04281848321499546,null,-0.19277539812645317,-0.2867109392158288,null,-0.19277539812645317,-0.29745267986175544,null,-0.19277539812645317,-0.13618210714380588,null,-0.19277539812645317,-0.14362172426599235,null,-0.17420055600189213,-0.25144559076871353,null,-0.17420055600189213,-0.015557331463560871,null,-0.17420055600189213,-0.2766833420813386,null,-0.17420055600189213,-0.11993393021148098,null,-0.07805374211336553,-0.02951402962620362,null,-0.07805374211336553,-0.03919710385422079,null,-0.16824104182689428,-0.10333477992975376,null,-0.03346949229389482,-0.015557331463560871,null,-0.03346949229389482,-0.06804462635423816,null,-0.07860560748893035,0.022852292718552214,null,-0.07860560748893035,-0.15135215777735964,null,0.08576317288934265,0.0723109137309589,null,0.23139009777731578,0.23608576478908555,null,0.23139009777731578,0.16809207491840827,null,0.23139009777731578,0.2596170274707607,null,0.23869598878245116,0.2415671096177649,null,0.23869598878245116,0.14941950598955608,null,0.09189099742174743,0.08369866926687101,null,0.09189099742174743,0.11437348908443216,null,0.08217480633619473,0.14941950598955608,null,0.08217480633619473,-0.015557331463560871,null,0.08369866926687101,0.11437348908443216,null,0.2710162645926538,0.21767015930420072,null,0.48390602605863214,0.49513550743046786,null,0.48390602605863214,0.5123916406806894,null,0.48390602605863214,0.42503625663312,null,-0.5114033496744721,-0.4851972281867708,null,-0.5114033496744721,-0.44368654273329694,null,-0.2766833420813386,-0.25144559076871353,null,-0.01237084393370551,-0.02951402962620362,null,-0.01237084393370551,0.022852292718552214,null,-0.05500582614347598,-0.020575980014496523,null,-0.05500582614347598,-0.10333477992975376,null,0.1318475862963548,0.21767015930420072,null,-0.2867109392158288,-0.29745267986175544,null,0.16809207491840827,0.23608576478908555,null,0.16809207491840827,0.2596170274707607,null,0.16809207491840827,0.022852292718552214,null,-0.2154899410537792,-0.22177036302241315,null,-0.2154899410537792,-0.1971267144366104,null,-0.2154899410537792,-0.10333477992975376,null,-0.44368654273329694,-0.4851972281867708,null,-0.06804462635423816,-0.015557331463560871,null,-0.015557331463560871,0.14941950598955608,null,-0.015557331463560871,-0.10333477992975376,null,-0.015557331463560871,0.10711027730558471,null,-0.015557331463560871,-0.02857656786040472,null,-0.015557331463560871,0.022852292718552214,null,-0.015557331463560871,0.0612912568427474,null,-0.015557331463560871,-0.059552634967008244,null,-0.015557331463560871,0.04778497071360975,null,-0.015557331463560871,-0.11993393021148098,null,0.0612912568427474,0.04778497071360975,null,0.0612912568427474,0.10711027730558471,null,-0.22177036302241315,-0.10333477992975376,null,-0.22177036302241315,-0.1971267144366104,null,0.14941950598955608,0.2415671096177649,null,0.6823812710228773,0.6117557497285567,null,0.42503625663312,0.5123916406806894,null,0.42503625663312,0.6117557497285567,null,0.42503625663312,0.49513550743046786,null,0.42503625663312,0.4675211295780975,null,-0.14362172426599235,-0.04281848321499546,null,-0.14362172426599235,-0.13618210714380588,null,0.2596170274707607,0.23608576478908555,null,0.7044389279283805,0.6117557497285567,null,0.022852292718552214,-0.02951402962620362,null,0.022852292718552214,0.04560954826301926,null,0.022852292718552214,0.0723109137309589,null,-0.04887194596317817,-0.04281848321499546,null,-0.04887194596317817,-0.07863532296494373,null,-0.13618210714380588,-0.04281848321499546,null,0.20066891280450025,0.10711027730558471,null,-0.02857656786040472,-0.059552634967008244,null,-0.04281848321499546,-0.07863532296494373,null,-0.04281848321499546,-0.11342139675406943,null,-0.5815856325530812,-0.5532941598042126,null,0.04778497071360975,0.10711027730558471,null,-0.1971267144366104,-0.10333477992975376,null,-0.02951402962620362,-0.03919710385422079,null,-0.020575980014496523,-0.10333477992975376,null,0.04560954826301926,0.0723109137309589,null,0.49513550743046786,0.5123916406806894,null],\"y\":[0.5252420299484093,0.4990022603101724,null,0.5252420299484093,0.4627413953808106,null,0.7617330393254528,0.6997411377774734,null,0.7617330393254528,0.8170814618459374,null,-0.6288158726040027,-0.58143897825377,null,-0.6288158726040027,-0.6598725294097243,null,0.4377956392945322,0.41005535881875116,null,0.4377956392945322,0.4489427691729753,null,0.4377956392945322,0.38975807297554704,null,0.03120473143420814,0.028630351025799056,null,0.03120473143420814,-0.0029677087361251824,null,0.03120473143420814,-0.016924050670949663,null,-0.38021114207328266,-0.35728057387979834,null,-0.5672841105474452,-0.5837316694445105,null,-0.5672841105474452,-0.5456136877939617,null,-0.5672841105474452,-0.5706062864579848,null,-0.5672841105474452,-0.5633441467525538,null,-0.5672841105474452,-0.58143897825377,null,0.7858471585183194,0.6997411377774734,null,0.7858471585183194,0.8501298781292294,null,0.7858471585183194,0.798540059910224,null,0.5559458787376946,0.38975807297554704,null,0.5559458787376946,0.553465025071604,null,0.5559458787376946,0.6997411377774734,null,0.5096807938307165,0.4845391902486338,null,0.5096807938307165,0.47051616578464034,null,0.5096807938307165,0.4489427691729753,null,0.9760139454313196,0.988494741619006,null,0.9760139454313196,0.8864676347517829,null,0.9760139454313196,1.0,null,-0.36487550645944616,-0.33167197947910826,null,-0.36487550645944616,-0.3194087605210105,null,-0.17643150746653072,-0.2711468934554734,null,-0.17643150746653072,-0.35728057387979834,null,-0.17643150746653072,-0.016924050670949663,null,-0.17643150746653072,-0.10090958871234519,null,-0.17643150746653072,-0.08172963746170656,null,-0.17643150746653072,-0.10942797891519869,null,0.553465025071604,0.38975807297554704,null,0.553465025071604,0.6997411377774734,null,-0.23720080787885106,-0.41469929686377904,null,-0.23720080787885106,-0.016924050670949663,null,-0.23720080787885106,-0.13652016702974384,null,-0.23720080787885106,-0.1349726202432962,null,-0.23720080787885106,-0.12156471603024253,null,-0.23720080787885106,-0.3424873155481722,null,-0.23720080787885106,-0.41584618236300885,null,-0.5456136877939617,-0.5633441467525538,null,-0.5456136877939617,-0.5706062864579848,null,-0.1349726202432962,-0.12156471603024253,null,-0.1349726202432962,-0.016924050670949663,null,-0.1349726202432962,-0.13652016702974384,null,-0.6223808938727268,-0.5633441467525538,null,-0.6223808938727268,-0.6466776832744983,null,-0.633565517474183,-0.6581909864975835,null,-0.633565517474183,-0.5899190558154214,null,-0.5837316694445105,-0.58143897825377,null,0.7527715733629755,0.6997411377774734,null,0.7527715733629755,0.7913524618576477,null,-0.5071996522988316,-0.5804483454944753,null,-0.5071996522988316,-0.41584618236300885,null,0.028630351025799056,-0.0029677087361251824,null,0.028630351025799056,-0.016924050670949663,null,-0.5038060970208348,-0.6038150335885388,null,-0.5038060970208348,-0.35728057387979834,null,-0.5038060970208348,-0.4513482183049396,null,-0.5038060970208348,-0.4410567584553322,null,-0.5038060970208348,-0.5873977000162611,null,-0.0029677087361251824,-0.016924050670949663,null,-0.5875691684450179,-0.5633441467525538,null,-0.5875691684450179,-0.5899190558154214,null,0.3279453819414324,0.3569180669037327,null,0.3279453819414324,0.38975807297554704,null,0.3279453819414324,0.3304319456547296,null,-0.672967357248392,-0.5631520102994765,null,-0.672967357248392,-0.6607290324072321,null,0.7611242450745928,0.6997411377774734,null,-0.31920350659544133,-0.2977212039353767,null,-0.31920350659544133,-0.3194087605210105,null,-0.3424873155481722,-0.41584618236300885,null,-0.3424873155481722,-0.41469929686377904,null,0.9480198741588751,0.8501298781292294,null,0.9480198741588751,0.9584645286109602,null,-0.2711468934554734,-0.2977212039353767,null,-0.2711468934554734,-0.35728057387979834,null,-0.2711468934554734,-0.3194087605210105,null,-0.5706062864579848,-0.5633441467525538,null,-0.48661641869529665,-0.41469929686377904,null,-0.48661641869529665,-0.509600968709525,null,-0.48661641869529665,-0.5631520102994765,null,-0.00013909459706296868,0.03213903898887488,null,-0.00013909459706296868,-0.016924050670949663,null,-0.41584618236300885,-0.41469929686377904,null,-0.41584618236300885,-0.5804483454944753,null,-0.33167197947910826,-0.3194087605210105,null,-0.2977212039353767,-0.3194087605210105,null,-0.5938066938756827,-0.5642434108891613,null,-0.5938066938756827,-0.5899190558154214,null,0.34694469706973413,0.37391796608291683,null,0.34694469706973413,0.38975807297554704,null,0.34694469706973413,0.36424233645608683,null,0.361219650787954,0.34105399863447255,null,0.361219650787954,0.38186808644066755,null,0.361219650787954,0.36424233645608683,null,-0.509600968709525,-0.41469929686377904,null,-0.509600968709525,-0.5631520102994765,null,-0.5156767430202993,-0.58143897825377,null,-0.5156767430202993,-0.4751521548694412,null,-0.5156767430202993,-0.4335751816345891,null,-0.5156767430202993,-0.5354116070417484,null,-0.5156767430202993,-0.5673407629320045,null,0.4489427691729753,0.4845391902486338,null,0.4489427691729753,0.38975807297554704,null,0.4489427691729753,0.47051616578464034,null,0.4489427691729753,0.41005535881875116,null,0.988494741619006,0.8864676347517829,null,0.988494741619006,1.0,null,0.03213903898887488,-0.016924050670949663,null,0.3304319456547296,0.38975807297554704,null,0.3304319456547296,0.3569180669037327,null,0.7913524618576477,0.6997411377774734,null,0.7913524618576477,0.8663337664122029,null,0.9584645286109602,0.8501298781292294,null,0.8824170882700352,0.9086239463305978,null,0.8824170882700352,0.8170814618459374,null,0.8824170882700352,0.8755113807979575,null,0.34105399863447255,0.38186808644066755,null,0.34105399863447255,0.36424233645608683,null,-0.5804483454944753,-0.6888289555789991,null,-0.5804483454944753,-0.6867576030427904,null,0.37391796608291683,0.36424233645608683,null,0.37391796608291683,0.38975807297554704,null,-0.6888289555789991,-0.6867576030427904,null,-0.6607290324072321,-0.5631520102994765,null,-0.5123220124548857,-0.5499178562370719,null,-0.5123220124548857,-0.5235930129380015,null,-0.5123220124548857,-0.5633441467525538,null,-0.4410567584553322,-0.4513482183049396,null,-0.4410567584553322,-0.35728057387979834,null,0.47051616578464034,0.4845391902486338,null,0.8146325830064498,0.8864676347517829,null,0.8146325830064498,0.6997411377774734,null,-0.13652016702974384,-0.12156471603024253,null,-0.13652016702974384,-0.016924050670949663,null,-0.41469929686377904,-0.5631520102994765,null,-0.4751521548694412,-0.4335751816345891,null,0.8170814618459374,0.9086239463305978,null,0.8170814618459374,0.8755113807979575,null,0.8170814618459374,0.6997411377774734,null,-0.10090958871234519,-0.08172963746170656,null,-0.10090958871234519,-0.10942797891519869,null,-0.10090958871234519,-0.016924050670949663,null,-0.35728057387979834,-0.4513482183049396,null,0.3569180669037327,0.38975807297554704,null,0.38975807297554704,0.36424233645608683,null,0.38975807297554704,-0.016924050670949663,null,0.38975807297554704,0.4627413953808106,null,0.38975807297554704,0.45986559218329065,null,0.38975807297554704,0.6997411377774734,null,0.38975807297554704,0.42619256732615274,null,0.38975807297554704,0.4495674364663331,null,0.38975807297554704,0.4517179316679984,null,0.38975807297554704,0.41005535881875116,null,0.42619256732615274,0.4517179316679984,null,0.42619256732615274,0.4627413953808106,null,-0.08172963746170656,-0.016924050670949663,null,-0.08172963746170656,-0.10942797891519869,null,0.36424233645608683,0.38186808644066755,null,-0.6581909864975835,-0.5899190558154214,null,-0.5633441467525538,-0.5235930129380015,null,-0.5633441467525538,-0.5899190558154214,null,-0.5633441467525538,-0.5499178562370719,null,-0.5633441467525538,-0.6466776832744983,null,-0.5673407629320045,-0.58143897825377,null,-0.5673407629320045,-0.5354116070417484,null,0.8755113807979575,0.9086239463305978,null,-0.5642434108891613,-0.5899190558154214,null,0.6997411377774734,0.8864676347517829,null,0.6997411377774734,0.798540059910224,null,0.6997411377774734,0.8501298781292294,null,-0.673642361552685,-0.58143897825377,null,-0.673642361552685,-0.6740880896640777,null,-0.5354116070417484,-0.58143897825377,null,0.4990022603101724,0.4627413953808106,null,0.45986559218329065,0.4495674364663331,null,-0.58143897825377,-0.6740880896640777,null,-0.58143897825377,-0.6598725294097243,null,-0.5873977000162611,-0.6038150335885388,null,0.4517179316679984,0.4627413953808106,null,-0.10942797891519869,-0.016924050670949663,null,0.8864676347517829,1.0,null,-0.12156471603024253,-0.016924050670949663,null,0.798540059910224,0.8501298781292294,null,-0.5499178562370719,-0.5235930129380015,null],\"type\":\"scatter\"},{\"hoverinfo\":\"text\",\"marker\":{\"color\":[\"#9467bd\",\"#9467bd\",\"#17becf\",\"#9467bd\",\"#8c564b\",\"#8c564b\",\"#17becf\",\"#9467bd\",\"#9467bd\",\"#9467bd\",\"#9467bd\",\"#8c564b\",\"#8c564b\",\"#9467bd\",\"#8c564b\",\"#17becf\",\"#8c564b\",\"#17becf\",\"#17becf\",\"#17becf\",\"#9467bd\",\"#8c564b\",\"#8c564b\",\"#8c564b\",\"#8c564b\",\"#17becf\",\"#9467bd\",\"#8c564b\",\"#9467bd\",\"#8c564b\",\"#8c564b\",\"#9467bd\",\"#8c564b\",\"#17becf\",\"#8c564b\",\"#8c564b\",\"#8c564b\",\"#8c564b\",\"#8c564b\",\"#17becf\",\"#9467bd\",\"#9467bd\",\"#8c564b\",\"#17becf\",\"#9467bd\",\"#9467bd\",\"#8c564b\",\"#9467bd\",\"#9467bd\",\"#9467bd\",\"#9467bd\",\"#9467bd\",\"#8c564b\",\"#9467bd\",\"#8c564b\",\"#8c564b\",\"#17becf\",\"#8c564b\",\"#9467bd\",\"#9467bd\",\"#8c564b\",\"#8c564b\",\"#17becf\",\"#9467bd\",\"#8c564b\",\"#8c564b\",\"#8c564b\",\"#9467bd\",\"#9467bd\",\"#9467bd\",\"#8c564b\",\"#9467bd\",\"#17becf\",\"#9467bd\",\"#17becf\",\"#9467bd\",\"#17becf\",\"#17becf\",\"#9467bd\",\"#17becf\",\"#9467bd\",\"#17becf\",\"#17becf\",\"#8c564b\",\"#9467bd\",\"#9467bd\",\"#17becf\",\"#17becf\",\"#9467bd\",\"#8c564b\",\"#9467bd\",\"#17becf\",\"#8c564b\",\"#9467bd\",\"#9467bd\",\"#9467bd\",\"#8c564b\",\"#17becf\",\"#8c564b\",\"#8c564b\",\"#9467bd\",\"#9467bd\",\"#17becf\",\"#9467bd\",\"#17becf\",\"#8c564b\",\"#9467bd\",\"#8c564b\",\"#17becf\",\"#9467bd\"],\"size\":[7.2,7.2,7.2,8.3,8.3,6.1,10.5,8.3,8.3,8.3,8.3,7.2,11.600000000000001,8.3,12.700000000000001,8.3,9.4,7.2,7.2,7.2,7.2,7.2,8.3,10.5,8.3,7.2,8.3,7.2,6.1,7.2,8.3,7.2,9.4,8.3,8.3,7.2,10.5,7.2,8.3,7.2,8.3,8.3,8.3,10.5,11.600000000000001,8.3,7.2,8.3,8.3,7.2,8.3,8.3,9.4,8.3,7.2,7.2,8.3,8.3,8.3,7.2,9.4,11.600000000000001,7.2,10.5,9.4,7.2,11.600000000000001,8.3,24.8,8.3,9.4,11.600000000000001,7.2,6.1,16.0,8.3,7.2,8.3,8.3,7.2,19.3,7.2,8.3,10.5,7.2,7.2,11.600000000000001,14.9,8.3,7.2,8.3,7.2,9.4,10.5,8.3,10.5,9.4,7.2,10.5,20.400000000000002,8.3,8.3,8.3,10.5,8.3,7.2,8.3,8.3,7.2,7.2]},\"mode\":\"markers\",\"text\":[\"Node Mass discrepancy\\u003cbr\\u003eDegree: 2\",\"Node Galactic Eclipsing Double Periodic Variables\\u003cbr\\u003eDegree: 2\",\"Node Nuclear Matter Cores\\u003cbr\\u003eDegree: 2\",\"Node Vorticity\\u003cbr\\u003eDegree: 3\",\"Node Turbulent Mixing\\u003cbr\\u003eDegree: 3\",\"Node Supernova SN1987A\\u003cbr\\u003eDegree: 1\",\"Node Wigner-\\u003cbr\\u003eDegree: 5\",\"Node Southern Eclipse\\u003cbr\\u003eDegree: 3\",\"Node Zeeman Effect\\u003cbr\\u003eDegree: 3\",\"Node Force-Free Field\\u003cbr\\u003eDegree: 3\",\"Node Spectral Analysis\\u003cbr\\u003eDegree: 3\",\"Node He-rich Matter\\u003cbr\\u003eDegree: 2\",\"Node Binary Evolution\\u003cbr\\u003eDegree: 6\",\"Node FORS2\\u003cbr\\u003eDegree: 3\",\"Node Sun\\u003cbr\\u003eDegree: 7\",\"Node Pairing Properties\\u003cbr\\u003eDegree: 3\",\"Node Houdek\\u003cbr\\u003eDegree: 4\",\"Node Dense Matter\\u003cbr\\u003eDegree: 2\",\"Node Spectropolarimetric Observations\\u003cbr\\u003eDegree: 2\",\"Node Magnetically Deformed Atoms\\u003cbr\\u003eDegree: 2\",\"Node Atomic Data\\u003cbr\\u003eDegree: 2\",\"Node Solar Neutrino Research\\u003cbr\\u003eDegree: 2\",\"Node Magnetohyd\\u003cbr\\u003eDegree: 3\",\"Node Symbiotic Star\\u003cbr\\u003eDegree: 5\",\"Node Hydrodynamic Turbulence\\u003cbr\\u003eDegree: 3\",\"Node Binary History\\u003cbr\\u003eDegree: 2\",\"Node Pre-main-sequence\\u003cbr\\u003eDegree: 3\",\"Node radioactive decay\\u003cbr\\u003eDegree: 2\",\"Node Rotation of White Dwarf Stars\\u003cbr\\u003eDegree: 1\",\"Node Progenitor Models\\u003cbr\\u003eDegree: 2\",\"Node Solar Model\\u003cbr\\u003eDegree: 3\",\"Node Observational\\u003cbr\\u003eDegree: 2\",\"Node Symbiotic Stars\\u003cbr\\u003eDegree: 4\",\"Node Specific Heat\\u003cbr\\u003eDegree: 3\",\"Node Linear\\u003cbr\\u003eDegree: 3\",\"Node Plasma Mechanism\\u003cbr\\u003eDegree: 2\",\"Node CNO Cycle\\u003cbr\\u003eDegree: 5\",\"Node CO WDs\\u003cbr\\u003eDegree: 2\",\"Node Type Ia Supernovae\\u003cbr\\u003eDegree: 3\",\"Node Pulsators\\u003cbr\\u003eDegree: 2\",\"Node O-\\u003cbr\\u003eDegree: 3\",\"Node Exogenous Processes\\u003cbr\\u003eDegree: 3\",\"Node Flavor Stability Analysis\\u003cbr\\u003eDegree: 3\",\"Node Pulsars\\u003cbr\\u003eDegree: 5\",\"Node Helicity\\u003cbr\\u003eDegree: 6\",\"Node Theossa\\u003cbr\\u003eDegree: 3\",\"Node Neutron-Excess Nuclei\\u003cbr\\u003eDegree: 2\",\"Node Foss\\u003cbr\\u003eDegree: 3\",\"Node Stellar Spectra\\u003cbr\\u003eDegree: 3\",\"Node Field Blue Stragglers\\u003cbr\\u003eDegree: 2\",\"Node Galaxy\\u003cbr\\u003eDegree: 3\",\"Node A-stars\\u003cbr\\u003eDegree: 3\",\"Node Neutrinos\\u003cbr\\u003eDegree: 4\",\"Node B- and A-type stars\\u003cbr\\u003eDegree: 3\",\"Node Cooling of Compact Stars\\u003cbr\\u003eDegree: 2\",\"Node UVOIR\\u003cbr\\u003eDegree: 2\",\"Node Toroidal\\u003cbr\\u003eDegree: 3\",\"Node YY Her\\u003cbr\\u003eDegree: 3\",\"Node Gauge-invari\\u003cbr\\u003eDegree: 3\",\"Node Spectral Stellar Libraries\\u003cbr\\u003eDegree: 2\",\"Node Seismic Signature\\u003cbr\\u003eDegree: 4\",\"Node Neutrino Fluxes\\u003cbr\\u003eDegree: 6\",\"Node Weak Equivalence Principle\\u003cbr\\u003eDegree: 2\",\"Node DPVs\\u003cbr\\u003eDegree: 5\",\"Node Astrophysical Studies\\u003cbr\\u003eDegree: 4\",\"Node dense quark matter\\u003cbr\\u003eDegree: 2\",\"Node Observations\\u003cbr\\u003eDegree: 6\",\"Node Ap\\u002fBp Stars\\u003cbr\\u003eDegree: 3\",\"Node Magnetic Fields\\u003cbr\\u003eDegree: 18\",\"Node OBstars\\u003cbr\\u003eDegree: 3\",\"Node Star clusters\\u003cbr\\u003eDegree: 4\",\"Node Radiative\\u003cbr\\u003eDegree: 6\",\"Node Vega\\u003cbr\\u003eDegree: 2\",\"Node Doppler Velocity\\u003cbr\\u003eDegree: 1\",\"Node Neutron Star\\u003cbr\\u003eDegree: 10\",\"Node Gravitational Settling\\u003cbr\\u003eDegree: 3\",\"Node Superfluid Vortices\\u003cbr\\u003eDegree: 2\",\"Node IAU Symposium 291\\u003cbr\\u003eDegree: 3\",\"Node Long Cycle Variables\\u003cbr\\u003eDegree: 3\",\"Node Be Stars\\u003cbr\\u003eDegree: 2\",\"Node Astronomy\\u003cbr\\u003eDegree: 13\",\"Node Magnetic Equilibrium\\u003cbr\\u003eDegree: 2\",\"Node Beijing\\u003cbr\\u003eDegree: 3\",\"Node SNe Ia\\u003cbr\\u003eDegree: 5\",\"Node Solar Metallicity\\u003cbr\\u003eDegree: 2\",\"Node Solar Hale Sector Boundaries\\u003cbr\\u003eDegree: 2\",\"Node Magnetic Field\\u003cbr\\u003eDegree: 6\",\"Node Neutron Stars\\u003cbr\\u003eDegree: 9\",\"Node Turbulent Pumping\\u003cbr\\u003eDegree: 3\",\"Node V5485 Sagittarii\\u003cbr\\u003eDegree: 2\",\"Node X-ray emission\\u003cbr\\u003eDegree: 3\",\"Node Singular Current Layers\\u003cbr\\u003eDegree: 2\",\"Node Galaxies\\u003cbr\\u003eDegree: 4\",\"Node O stars\\u003cbr\\u003eDegree: 5\",\"Node Double Periodic Variables\\u003cbr\\u003eDegree: 3\",\"Node Virtual Observatory\\u003cbr\\u003eDegree: 5\",\"Node Helium Ionization\\u003cbr\\u003eDegree: 4\",\"Node Electromagnetic Effects\\u003cbr\\u003eDegree: 2\",\"Node Supernova\\u003cbr\\u003eDegree: 5\",\"Node Stars\\u003cbr\\u003eDegree: 14\",\"Node R Arae\\u003cbr\\u003eDegree: 3\",\"Node Tuebingen NLTE\\u003cbr\\u003eDegree: 3\",\"Node Poloidal Magnetic Fields\\u003cbr\\u003eDegree: 3\",\"Node Mass Transfer\\u003cbr\\u003eDegree: 5\",\"Node Hall Equilibria\\u003cbr\\u003eDegree: 3\",\"Node Ellipsoidal Vari\\u003cbr\\u003eDegree: 2\",\"Node Rectangular Box\\u003cbr\\u003eDegree: 3\",\"Node Ellipsoidal Effect\\u003cbr\\u003eDegree: 3\",\"Node Neutrino Mean Free Path\\u003cbr\\u003eDegree: 2\",\"Node Microflares\\u003cbr\\u003eDegree: 2\"],\"x\":[0.18205754764720314,0.11749296486329226,-0.11802928019203887,-0.11123631540878688,-0.08470707928345302,-0.5254156212041315,0.19946995241532195,0.07056715739486052,-0.008934467957826563,-0.2640529688619595,-0.053109762400460614,-0.7335150746778754,-0.29582721204686696,0.013385752888648373,0.016120876293708057,0.3203967928554508,-0.03541327253598493,0.48856359249755615,0.7017522065991443,0.06906227712669269,-0.051960993358575215,0.07834324229510861,-0.050422730791792186,-0.5163883576207372,-0.05229670114050004,0.5396916503601905,-0.06779614315384036,0.24280793112904106,0.0006071885880433944,-0.6826359128573941,0.0768590282736922,0.11577028079983176,-0.4846308438105992,0.3194825037993049,0.20631490080592013,-0.1774406227471365,0.06855571266625833,-0.7437808498092988,-0.6036461350030571,0.7135079257268225,0.07694381455065034,0.2605390106261536,0.19288893492442516,-0.19277539812645317,-0.17420055600189213,-0.07805374211336553,-0.16824104182689428,-0.03346949229389482,-0.07860560748893035,0.08576317288934265,0.23139009777731578,0.23869598878245116,0.09189099742174743,0.08217480633619473,0.08369866926687101,0.2710162645926538,0.48390602605863214,-0.5114033496744721,-0.2766833420813386,-0.01237084393370551,-0.05500582614347598,0.1318475862963548,-0.2867109392158288,0.16809207491840827,-0.2154899410537792,0.11437348908443216,-0.44368654273329694,-0.06804462635423816,-0.015557331463560871,0.0612912568427474,-0.22177036302241315,0.14941950598955608,0.6823812710228773,-0.15135215777735964,0.42503625663312,0.2415671096177649,-0.29745267986175544,-0.14362172426599235,0.2596170274707607,0.7044389279283805,0.022852292718552214,-0.04887194596317817,-0.13618210714380588,-0.6396791825553468,0.20066891280450025,-0.02857656786040472,0.6117557497285567,-0.04281848321499546,-0.11993393021148098,-0.5815856325530812,0.04778497071360975,-0.07863532296494373,-0.1971267144366104,0.10711027730558471,0.23608576478908555,-0.02951402962620362,-0.020575980014496523,-0.11342139675406943,0.21767015930420072,-0.10333477992975376,0.04560954826301926,-0.03919710385422079,0.49513550743046786,0.0723109137309589,0.5123916406806894,-0.5532941598042126,-0.25144559076871353,-0.4851972281867708,0.4675211295780975,-0.059552634967008244],\"y\":[0.5252420299484093,0.7617330393254528,-0.6288158726040027,0.4377956392945322,0.03120473143420814,-0.38021114207328266,-0.5672841105474452,0.7858471585183194,0.5559458787376946,0.5096807938307165,0.9760139454313196,-0.36487550645944616,-0.17643150746653072,0.553465025071604,-0.23720080787885106,-0.5456136877939617,-0.1349726202432962,-0.6223808938727268,-0.633565517474183,-0.5837316694445105,0.7527715733629755,-0.5071996522988316,0.028630351025799056,-0.5038060970208348,-0.0029677087361251824,-0.5875691684450179,0.3279453819414324,-0.672967357248392,0.7611242450745928,-0.31920350659544133,-0.3424873155481722,0.9480198741588751,-0.2711468934554734,-0.5706062864579848,-0.48661641869529665,-0.00013909459706296868,-0.41584618236300885,-0.33167197947910826,-0.2977212039353767,-0.5938066938756827,0.34694469706973413,0.361219650787954,-0.509600968709525,-0.5156767430202993,0.4489427691729753,0.988494741619006,0.03213903898887488,0.3304319456547296,0.7913524618576477,0.9584645286109602,0.8824170882700352,0.34105399863447255,-0.5804483454944753,0.37391796608291683,-0.6888289555789991,-0.6607290324072321,-0.5123220124548857,-0.4410567584553322,0.47051616578464034,0.8146325830064498,-0.13652016702974384,-0.41469929686377904,-0.4751521548694412,0.8170814618459374,-0.10090958871234519,-0.6867576030427904,-0.35728057387979834,0.3569180669037327,0.38975807297554704,0.42619256732615274,-0.08172963746170656,0.36424233645608683,-0.6581909864975835,0.8663337664122029,-0.5633441467525538,0.38186808644066755,-0.4335751816345891,-0.5673407629320045,0.8755113807979575,-0.5642434108891613,0.6997411377774734,-0.673642361552685,-0.5354116070417484,-0.3194087605210105,0.4990022603101724,0.45986559218329065,-0.5899190558154214,-0.58143897825377,0.41005535881875116,-0.5873977000162611,0.4517179316679984,-0.6740880896640777,-0.10942797891519869,0.4627413953808106,0.9086239463305978,0.8864676347517829,-0.12156471603024253,-0.6598725294097243,-0.5631520102994765,-0.016924050670949663,0.798540059910224,1.0,-0.5499178562370719,0.8501298781292294,-0.5235930129380015,-0.6038150335885388,0.4845391902486338,-0.4513482183049396,-0.6466776832744983,0.4495674364663331],\"type\":\"scatter\"}],                        {\"template\":{\"data\":{\"histogram2dcontour\":[{\"type\":\"histogram2dcontour\",\"colorbar\":{\"outlinewidth\":0,\"ticks\":\"\"},\"colorscale\":[[0.0,\"#0d0887\"],[0.1111111111111111,\"#46039f\"],[0.2222222222222222,\"#7201a8\"],[0.3333333333333333,\"#9c179e\"],[0.4444444444444444,\"#bd3786\"],[0.5555555555555556,\"#d8576b\"],[0.6666666666666666,\"#ed7953\"],[0.7777777777777778,\"#fb9f3a\"],[0.8888888888888888,\"#fdca26\"],[1.0,\"#f0f921\"]]}],\"choropleth\":[{\"type\":\"choropleth\",\"colorbar\":{\"outlinewidth\":0,\"ticks\":\"\"}}],\"histogram2d\":[{\"type\":\"histogram2d\",\"colorbar\":{\"outlinewidth\":0,\"ticks\":\"\"},\"colorscale\":[[0.0,\"#0d0887\"],[0.1111111111111111,\"#46039f\"],[0.2222222222222222,\"#7201a8\"],[0.3333333333333333,\"#9c179e\"],[0.4444444444444444,\"#bd3786\"],[0.5555555555555556,\"#d8576b\"],[0.6666666666666666,\"#ed7953\"],[0.7777777777777778,\"#fb9f3a\"],[0.8888888888888888,\"#fdca26\"],[1.0,\"#f0f921\"]]}],\"heatmap\":[{\"type\":\"heatmap\",\"colorbar\":{\"outlinewidth\":0,\"ticks\":\"\"},\"colorscale\":[[0.0,\"#0d0887\"],[0.1111111111111111,\"#46039f\"],[0.2222222222222222,\"#7201a8\"],[0.3333333333333333,\"#9c179e\"],[0.4444444444444444,\"#bd3786\"],[0.5555555555555556,\"#d8576b\"],[0.6666666666666666,\"#ed7953\"],[0.7777777777777778,\"#fb9f3a\"],[0.8888888888888888,\"#fdca26\"],[1.0,\"#f0f921\"]]}],\"contourcarpet\":[{\"type\":\"contourcarpet\",\"colorbar\":{\"outlinewidth\":0,\"ticks\":\"\"}}],\"contour\":[{\"type\":\"contour\",\"colorbar\":{\"outlinewidth\":0,\"ticks\":\"\"},\"colorscale\":[[0.0,\"#0d0887\"],[0.1111111111111111,\"#46039f\"],[0.2222222222222222,\"#7201a8\"],[0.3333333333333333,\"#9c179e\"],[0.4444444444444444,\"#bd3786\"],[0.5555555555555556,\"#d8576b\"],[0.6666666666666666,\"#ed7953\"],[0.7777777777777778,\"#fb9f3a\"],[0.8888888888888888,\"#fdca26\"],[1.0,\"#f0f921\"]]}],\"surface\":[{\"type\":\"surface\",\"colorbar\":{\"outlinewidth\":0,\"ticks\":\"\"},\"colorscale\":[[0.0,\"#0d0887\"],[0.1111111111111111,\"#46039f\"],[0.2222222222222222,\"#7201a8\"],[0.3333333333333333,\"#9c179e\"],[0.4444444444444444,\"#bd3786\"],[0.5555555555555556,\"#d8576b\"],[0.6666666666666666,\"#ed7953\"],[0.7777777777777778,\"#fb9f3a\"],[0.8888888888888888,\"#fdca26\"],[1.0,\"#f0f921\"]]}],\"mesh3d\":[{\"type\":\"mesh3d\",\"colorbar\":{\"outlinewidth\":0,\"ticks\":\"\"}}],\"scatter\":[{\"fillpattern\":{\"fillmode\":\"overlay\",\"size\":10,\"solidity\":0.2},\"type\":\"scatter\"}],\"parcoords\":[{\"type\":\"parcoords\",\"line\":{\"colorbar\":{\"outlinewidth\":0,\"ticks\":\"\"}}}],\"scatterpolargl\":[{\"type\":\"scatterpolargl\",\"marker\":{\"colorbar\":{\"outlinewidth\":0,\"ticks\":\"\"}}}],\"bar\":[{\"error_x\":{\"color\":\"#2a3f5f\"},\"error_y\":{\"color\":\"#2a3f5f\"},\"marker\":{\"line\":{\"color\":\"#E5ECF6\",\"width\":0.5},\"pattern\":{\"fillmode\":\"overlay\",\"size\":10,\"solidity\":0.2}},\"type\":\"bar\"}],\"scattergeo\":[{\"type\":\"scattergeo\",\"marker\":{\"colorbar\":{\"outlinewidth\":0,\"ticks\":\"\"}}}],\"scatterpolar\":[{\"type\":\"scatterpolar\",\"marker\":{\"colorbar\":{\"outlinewidth\":0,\"ticks\":\"\"}}}],\"histogram\":[{\"marker\":{\"pattern\":{\"fillmode\":\"overlay\",\"size\":10,\"solidity\":0.2}},\"type\":\"histogram\"}],\"scattergl\":[{\"type\":\"scattergl\",\"marker\":{\"colorbar\":{\"outlinewidth\":0,\"ticks\":\"\"}}}],\"scatter3d\":[{\"type\":\"scatter3d\",\"line\":{\"colorbar\":{\"outlinewidth\":0,\"ticks\":\"\"}},\"marker\":{\"colorbar\":{\"outlinewidth\":0,\"ticks\":\"\"}}}],\"scattermap\":[{\"type\":\"scattermap\",\"marker\":{\"colorbar\":{\"outlinewidth\":0,\"ticks\":\"\"}}}],\"scattermapbox\":[{\"type\":\"scattermapbox\",\"marker\":{\"colorbar\":{\"outlinewidth\":0,\"ticks\":\"\"}}}],\"scatterternary\":[{\"type\":\"scatterternary\",\"marker\":{\"colorbar\":{\"outlinewidth\":0,\"ticks\":\"\"}}}],\"scattercarpet\":[{\"type\":\"scattercarpet\",\"marker\":{\"colorbar\":{\"outlinewidth\":0,\"ticks\":\"\"}}}],\"carpet\":[{\"aaxis\":{\"endlinecolor\":\"#2a3f5f\",\"gridcolor\":\"white\",\"linecolor\":\"white\",\"minorgridcolor\":\"white\",\"startlinecolor\":\"#2a3f5f\"},\"baxis\":{\"endlinecolor\":\"#2a3f5f\",\"gridcolor\":\"white\",\"linecolor\":\"white\",\"minorgridcolor\":\"white\",\"startlinecolor\":\"#2a3f5f\"},\"type\":\"carpet\"}],\"table\":[{\"cells\":{\"fill\":{\"color\":\"#EBF0F8\"},\"line\":{\"color\":\"white\"}},\"header\":{\"fill\":{\"color\":\"#C8D4E3\"},\"line\":{\"color\":\"white\"}},\"type\":\"table\"}],\"barpolar\":[{\"marker\":{\"line\":{\"color\":\"#E5ECF6\",\"width\":0.5},\"pattern\":{\"fillmode\":\"overlay\",\"size\":10,\"solidity\":0.2}},\"type\":\"barpolar\"}],\"pie\":[{\"automargin\":true,\"type\":\"pie\"}]},\"layout\":{\"autotypenumbers\":\"strict\",\"colorway\":[\"#636efa\",\"#EF553B\",\"#00cc96\",\"#ab63fa\",\"#FFA15A\",\"#19d3f3\",\"#FF6692\",\"#B6E880\",\"#FF97FF\",\"#FECB52\"],\"font\":{\"color\":\"#2a3f5f\"},\"hovermode\":\"closest\",\"hoverlabel\":{\"align\":\"left\"},\"paper_bgcolor\":\"white\",\"plot_bgcolor\":\"#E5ECF6\",\"polar\":{\"bgcolor\":\"#E5ECF6\",\"angularaxis\":{\"gridcolor\":\"white\",\"linecolor\":\"white\",\"ticks\":\"\"},\"radialaxis\":{\"gridcolor\":\"white\",\"linecolor\":\"white\",\"ticks\":\"\"}},\"ternary\":{\"bgcolor\":\"#E5ECF6\",\"aaxis\":{\"gridcolor\":\"white\",\"linecolor\":\"white\",\"ticks\":\"\"},\"baxis\":{\"gridcolor\":\"white\",\"linecolor\":\"white\",\"ticks\":\"\"},\"caxis\":{\"gridcolor\":\"white\",\"linecolor\":\"white\",\"ticks\":\"\"}},\"coloraxis\":{\"colorbar\":{\"outlinewidth\":0,\"ticks\":\"\"}},\"colorscale\":{\"sequential\":[[0.0,\"#0d0887\"],[0.1111111111111111,\"#46039f\"],[0.2222222222222222,\"#7201a8\"],[0.3333333333333333,\"#9c179e\"],[0.4444444444444444,\"#bd3786\"],[0.5555555555555556,\"#d8576b\"],[0.6666666666666666,\"#ed7953\"],[0.7777777777777778,\"#fb9f3a\"],[0.8888888888888888,\"#fdca26\"],[1.0,\"#f0f921\"]],\"sequentialminus\":[[0.0,\"#0d0887\"],[0.1111111111111111,\"#46039f\"],[0.2222222222222222,\"#7201a8\"],[0.3333333333333333,\"#9c179e\"],[0.4444444444444444,\"#bd3786\"],[0.5555555555555556,\"#d8576b\"],[0.6666666666666666,\"#ed7953\"],[0.7777777777777778,\"#fb9f3a\"],[0.8888888888888888,\"#fdca26\"],[1.0,\"#f0f921\"]],\"diverging\":[[0,\"#8e0152\"],[0.1,\"#c51b7d\"],[0.2,\"#de77ae\"],[0.3,\"#f1b6da\"],[0.4,\"#fde0ef\"],[0.5,\"#f7f7f7\"],[0.6,\"#e6f5d0\"],[0.7,\"#b8e186\"],[0.8,\"#7fbc41\"],[0.9,\"#4d9221\"],[1,\"#276419\"]]},\"xaxis\":{\"gridcolor\":\"white\",\"linecolor\":\"white\",\"ticks\":\"\",\"title\":{\"standoff\":15},\"zerolinecolor\":\"white\",\"automargin\":true,\"zerolinewidth\":2},\"yaxis\":{\"gridcolor\":\"white\",\"linecolor\":\"white\",\"ticks\":\"\",\"title\":{\"standoff\":15},\"zerolinecolor\":\"white\",\"automargin\":true,\"zerolinewidth\":2},\"scene\":{\"xaxis\":{\"backgroundcolor\":\"#E5ECF6\",\"gridcolor\":\"white\",\"linecolor\":\"white\",\"showbackground\":true,\"ticks\":\"\",\"zerolinecolor\":\"white\",\"gridwidth\":2},\"yaxis\":{\"backgroundcolor\":\"#E5ECF6\",\"gridcolor\":\"white\",\"linecolor\":\"white\",\"showbackground\":true,\"ticks\":\"\",\"zerolinecolor\":\"white\",\"gridwidth\":2},\"zaxis\":{\"backgroundcolor\":\"#E5ECF6\",\"gridcolor\":\"white\",\"linecolor\":\"white\",\"showbackground\":true,\"ticks\":\"\",\"zerolinecolor\":\"white\",\"gridwidth\":2}},\"shapedefaults\":{\"line\":{\"color\":\"#2a3f5f\"}},\"annotationdefaults\":{\"arrowcolor\":\"#2a3f5f\",\"arrowhead\":0,\"arrowwidth\":1},\"geo\":{\"bgcolor\":\"white\",\"landcolor\":\"#E5ECF6\",\"subunitcolor\":\"white\",\"showland\":true,\"showlakes\":true,\"lakecolor\":\"white\"},\"title\":{\"x\":0.05},\"mapbox\":{\"style\":\"light\"}}},\"xaxis\":{\"showgrid\":false,\"zeroline\":false,\"showticklabels\":false},\"yaxis\":{\"showgrid\":false,\"zeroline\":false,\"showticklabels\":false},\"title\":{\"text\":\"Interactive Visualization of Top-3 Communities\"},\"showlegend\":false,\"plot_bgcolor\":\"white\"},                        {\"responsive\": true}                    ).then(function(){\n",
       "                            \n",
       "var gd = document.getElementById('31fb2bc4-34d0-4fbd-8600-72d099f62fef');\n",
       "var x = new MutationObserver(function (mutations, observer) {{\n",
       "        var display = window.getComputedStyle(gd).display;\n",
       "        if (!display || display === 'none') {{\n",
       "            console.log([gd, 'removed!']);\n",
       "            Plotly.purge(gd);\n",
       "            observer.disconnect();\n",
       "        }}\n",
       "}});\n",
       "\n",
       "// Listen for the removal of the full notebook cells\n",
       "var notebookContainer = gd.closest('#notebook-container');\n",
       "if (notebookContainer) {{\n",
       "    x.observe(notebookContainer, {childList: true});\n",
       "}}\n",
       "\n",
       "// Listen for the clearing of the current output cell\n",
       "var outputEl = gd.closest('.output');\n",
       "if (outputEl) {{\n",
       "    x.observe(outputEl, {childList: true});\n",
       "}}\n",
       "\n",
       "                        })                };            </script>        </div>"
      ]
     },
     "metadata": {},
     "output_type": "display_data"
    }
   ],
   "source": [
    "import nbformat\n",
    "import plotly.io as pio\n",
    "pio.renderers.default = \"notebook_connected\"\n",
    "\n",
    "communities = top3_comm[\"nodes\"].tolist()\n",
    "pos = nx.spring_layout(S, iterations=100, seed=23)\n",
    "\n",
    "# edges coordinates\n",
    "x_nodes, y_nodes = zip(*pos.values())\n",
    "edge_x, edge_y = [], []\n",
    "for edge in S.edges():\n",
    "    x0, y0 = pos[edge[0]]\n",
    "    x1, y1 = pos[edge[1]]\n",
    "    edge_x.extend([x0, x1, None])\n",
    "    edge_y.extend([y0, y1, None])\n",
    "\n",
    "# degree labels\n",
    "node_labels = [f\"Node {n}<br>Degree: {S.degree(n)}\" for n in S.nodes()]\n",
    "node_degrees = [S.degree(n) for n in S.nodes()]\n",
    "node_colors_list = create_community_node_colors(S, communities)\n",
    "\n",
    "fig = go.Figure()\n",
    "# add edges\n",
    "fig.add_trace(go.Scatter(\n",
    "    x=edge_x, y=edge_y,\n",
    "    line=dict(width=1, color=\"gray\"),\n",
    "))\n",
    "\n",
    "# add nodes\n",
    "fig.add_trace(go.Scatter(\n",
    "    x=x_nodes, y=y_nodes, mode=\"markers\",\n",
    "    marker=dict(size=[deg*1.1+5 for deg in node_degrees], color=node_colors_list),\n",
    "    hoverinfo=\"text\",\n",
    "    text=node_labels\n",
    "))\n",
    "\n",
    "# background settings\n",
    "fig.update_layout(\n",
    "    title=f\"Interactive Visualization of Top-3 Communities\",\n",
    "    showlegend=False,\n",
    "    plot_bgcolor=\"white\",\n",
    "    xaxis=dict(showgrid=False, zeroline=False, showticklabels=False),\n",
    "    yaxis=dict(showgrid=False, zeroline=False, showticklabels=False),\n",
    ")\n",
    "\n",
    "fig.show()"
   ]
  },
  {
   "cell_type": "markdown",
   "id": "a2eee5df",
   "metadata": {},
   "source": [
    "6. Найти ключевые слова с наибольшими значениями центральности в выбранной тематике (например, degree centrality, betweenness centrality, eigenvector centrality, closeness centrality). Интерпретировать результаты.\n",
    "\n",
    "(Все значения центральностей библиотека networkx выводит в нормированном виде, поэтому получаются дробные значения.)"
   ]
  },
  {
   "cell_type": "code",
   "execution_count": null,
   "id": "500a6bce",
   "metadata": {},
   "outputs": [
    {
     "data": {
      "text/html": [
       "<img src=\"centralities.png\"/>"
      ],
      "text/plain": [
       "<IPython.core.display.Image object>"
      ]
     },
     "execution_count": 56,
     "metadata": {},
     "output_type": "execute_result"
    }
   ],
   "source": [
    "top_amount = 10\n",
    "\n",
    "from IPython.display import Image\n",
    "\n",
    "Image(url=\"./data/lab-1/centralities.png\")"
   ]
  },
  {
   "cell_type": "markdown",
   "id": "0b47f19f",
   "metadata": {},
   "source": [
    "#### Degree Centrality\n",
    "количество узлов, с к которыми связан данный узел"
   ]
  },
  {
   "cell_type": "code",
   "execution_count": 26,
   "id": "4c85d1d6",
   "metadata": {},
   "outputs": [
    {
     "data": {
      "text/plain": [
       "[('Magnetic Fields', 0.17),\n",
       " ('Stars', 0.13),\n",
       " ('Astronomy', 0.12),\n",
       " ('Neutron Star', 0.09),\n",
       " ('Neutron Stars', 0.08),\n",
       " ('Sun', 0.06),\n",
       " ('Binary Evolution', 0.06),\n",
       " ('Helicity', 0.06),\n",
       " ('Neutrino Fluxes', 0.06),\n",
       " ('Observations', 0.06)]"
      ]
     },
     "execution_count": 26,
     "metadata": {},
     "output_type": "execute_result"
    }
   ],
   "source": [
    "top_degree = [\n",
    "    (node[0], round(node[1],2))\n",
    "    for node in sorted(nx.degree_centrality(S).items(), key=itemgetter(1), reverse=True)\n",
    "][:top_amount]\n",
    "\n",
    "top_degree"
   ]
  },
  {
   "cell_type": "markdown",
   "id": "6f3d6162",
   "metadata": {},
   "source": [
    "Эти слова имеют наибольшее количество прямых связей с другими ключевыми словами, они встречаются в большом числе публикаций одновременно с другими терминами. Например, Magnetic Fields — универсальное понятие, часто сопутствует самым разным исследованиям, поэтому оно соединяет множество других ключевых слов напрямую."
   ]
  },
  {
   "cell_type": "markdown",
   "id": "1ce95447",
   "metadata": {},
   "source": [
    "#### Betweenness centrality\n",
    "количество кратчайших путей между каждой парой узлов, проходящих через данный узел"
   ]
  },
  {
   "cell_type": "code",
   "execution_count": 27,
   "id": "a81ecd8a",
   "metadata": {},
   "outputs": [
    {
     "data": {
      "text/plain": [
       "[('Magnetic Fields', 0.41),\n",
       " ('Stars', 0.37),\n",
       " ('Astronomy', 0.23),\n",
       " ('Binary Evolution', 0.15),\n",
       " ('Sun', 0.14),\n",
       " ('Observations', 0.08),\n",
       " ('Symbiotic Stars', 0.07),\n",
       " ('Neutrino Fluxes', 0.07),\n",
       " ('CNO Cycle', 0.05),\n",
       " ('Helicity', 0.04)]"
      ]
     },
     "execution_count": 27,
     "metadata": {},
     "output_type": "execute_result"
    }
   ],
   "source": [
    "top_betweenness = [\n",
    "    (node, round(score, 2))\n",
    "    for node, score in sorted(nx.betweenness_centrality(S).items(), key=itemgetter(1), reverse=True)\n",
    "][:top_amount]\n",
    "\n",
    "top_betweenness"
   ]
  },
  {
   "cell_type": "markdown",
   "id": "32c2ebfa",
   "metadata": {},
   "source": [
    "Эти узлы лежат на путях между разными частями графа, то есть играют роль \"мостов\" между сообществами. Например, Magnetic Fields и Stars не только популярны, но и связывают разные тематические кластеры. Cюда попали более специализированные термины (Symbiotic Stars, CNO Cycle). Это значит, что именно они соединяют узкие области с более широкими темами."
   ]
  },
  {
   "cell_type": "markdown",
   "id": "06bbf0b9",
   "metadata": {},
   "source": [
    "#### Closeness centrality\n",
    "обратная средняя длина кратчайшего пути от данного узла до всех других достижимых узлов"
   ]
  },
  {
   "cell_type": "code",
   "execution_count": 28,
   "id": "a0e0e0fd",
   "metadata": {},
   "outputs": [
    {
     "data": {
      "text/plain": [
       "[('Magnetic Fields', 0.3),\n",
       " ('Stars', 0.29),\n",
       " ('Astronomy', 0.25),\n",
       " ('Binary Evolution', 0.23),\n",
       " ('Zeeman Effect', 0.23),\n",
       " ('FORS2', 0.23),\n",
       " ('Sun', 0.23),\n",
       " ('Astrophysical Studies', 0.22),\n",
       " ('Star clusters', 0.22),\n",
       " ('Galaxies', 0.22)]"
      ]
     },
     "execution_count": 28,
     "metadata": {},
     "output_type": "execute_result"
    }
   ],
   "source": [
    "top_closeness = [\n",
    "    (node, round(score, 2))\n",
    "    for node, score in sorted(nx.closeness_centrality(S).items(), key=itemgetter(1), reverse=True)\n",
    "][:top_amount]\n",
    "\n",
    "top_closeness"
   ]
  },
  {
   "cell_type": "markdown",
   "id": "4bc9f1e6",
   "metadata": {},
   "source": [
    "Эти узлы имеют наименьшую среднюю дистанцию до всех остальных, то есть быстрее всего можно достичь других терминов, начиная от них. Magnetic Fields снова на первом месте: от этого узла легко дойти до любого другого ключевого слова. Попали и более узкие термины (Zeeman Effect, FORS2)."
   ]
  },
  {
   "cell_type": "markdown",
   "id": "23a42622",
   "metadata": {},
   "source": [
    "#### Вывод\n",
    "\n",
    "Magnetic Fields, Stars, Astronomy лидируют во всех трёх метриках - это фундаментальные термины, которые широко встречаются, соединяют разные области и структурно расположены в центре графа."
   ]
  },
  {
   "cell_type": "markdown",
   "id": "e2045100",
   "metadata": {},
   "source": [
    "7. Построить граф публикаций: если ключевое слово является тегом для двух публикаций, значит, между ними связь есть. Чем больше общих ключевых слов, тем сильнее связь (выше вес ребра). Реализовать поиск наиболее близких к заданной пользователем публикаций на графе."
   ]
  },
  {
   "cell_type": "code",
   "execution_count": 29,
   "id": "420a4a40",
   "metadata": {},
   "outputs": [
    {
     "data": {
      "text/plain": [
       "[('Results of UBV Photoelectric Observations of the Early-Type Eclipsing\\n  Binary System XZ Cep',\n",
       "  'Results of UBV Photoelectric Observations of eclipsing binary RY Sct',\n",
       "  {'weight': 2}),\n",
       " ('Are disk in dwarf novae during their superoutbursts really eccentric?',\n",
       "  'Direct Evidence for Modulated Irradiation of Secondary Components in\\n  Dwarf Novae during Superoutbursts',\n",
       "  {'weight': 2}),\n",
       " ('The search for progenitor models of type Ia supernovae',\n",
       "  'Symbiotic stars as possible progenitors of SNe Ia: binary parameters and\\n  overall outlook',\n",
       "  {'weight': 2}),\n",
       " ('Radiative transfer in stellar atmospheres',\n",
       "  'Current status of NLTE analysis of stellar atmospheres',\n",
       "  {'weight': 2}),\n",
       " ('Radiative transfer in stellar atmospheres',\n",
       "  'Solution of NLTE Radiative Transfer Problems Using Forth-and-Back\\n  Implicit Lambda Iteration',\n",
       "  {'weight': 2}),\n",
       " ('Studying the hybrid pulsator 12 Lacertae: mode identification and\\n  complex seismic modelling',\n",
       "  'An attempt of seismic modelling of Beta Cephei stars in NGC 6910',\n",
       "  {'weight': 1}),\n",
       " ('Effects of Rotation on Stellar p-Mode Frequencies',\n",
       "  'Star clusters: Anything but simple',\n",
       "  {'weight': 1}),\n",
       " ('A 116 Year Record of Mass Transfer in R Arae',\n",
       "  'Rotation of White Dwarf Stars',\n",
       "  {'weight': 1}),\n",
       " ('Surface rotation of solar-like oscillating stars',\n",
       "  'Extracting surface rotation periods of solar-like Kepler targets',\n",
       "  {'weight': 1}),\n",
       " ('Results of UBV Photoelectric Observations of eclipsing binary RY Sct',\n",
       "  'Forty years of UBV photometry at Hvar',\n",
       "  {'weight': 1})]"
      ]
     },
     "execution_count": 29,
     "metadata": {},
     "output_type": "execute_result"
    }
   ],
   "source": [
    "nodes = list(zip(df[\"title\"], klist))\n",
    "edges = list(combinations(nodes, 2))\n",
    "edges = [(edge[0][0], edge[1][0], len(set(edge[0][1]) & set(edge[1][1]))) for edge in edges]\n",
    "weighted_edges = [(edge[0], edge[1], {\"weight\": edge[2]}) for edge in set(edges) if edge[2] != 0]\n",
    "sorted(weighted_edges, key=lambda x: x[2]['weight'], reverse=True)[:10]"
   ]
  },
  {
   "cell_type": "code",
   "execution_count": 30,
   "id": "e71ae3b0",
   "metadata": {},
   "outputs": [
    {
     "data": {
      "text/plain": [
       "(44850, 184)"
      ]
     },
     "execution_count": 30,
     "metadata": {},
     "output_type": "execute_result"
    }
   ],
   "source": [
    "len(set(edges)), len(weighted_edges)"
   ]
  },
  {
   "cell_type": "code",
   "execution_count": 31,
   "id": "f4a9335a",
   "metadata": {},
   "outputs": [
    {
     "data": {
      "image/png": "[encoded data removed]",
      "text/plain": [
       "<Figure size 640x480 with 1 Axes>"
      ]
     },
     "metadata": {},
     "output_type": "display_data"
    }
   ],
   "source": [
    "G = nx.Graph()\n",
    "G.add_edges_from(weighted_edges)\n",
    "nx.draw(G, with_labels=False, font_weight='bold', node_size=30)"
   ]
  },
  {
   "cell_type": "code",
   "execution_count": 40,
   "id": "583315b9",
   "metadata": {},
   "outputs": [],
   "source": [
    "def find_closest(graph, pub_title, top_k):\n",
    "    if pub_title not in graph:\n",
    "        return []\n",
    "\n",
    "    lengths = nx.single_source_dijkstra_path_length(graph, pub_title, weight=lambda u, v, d: 1/d[\"weight\"])\n",
    "    return sorted(lengths.items(), key=lambda x: x[1])[1:min(top_k, len(lengths))]"
   ]
  },
  {
   "cell_type": "code",
   "execution_count": 54,
   "id": "3a2a07ca",
   "metadata": {},
   "outputs": [
    {
     "name": "stdout",
     "output_type": "stream",
     "text": [
      "Basics of the NLTE physics\n"
     ]
    },
    {
     "data": {
      "text/plain": [
       "[('Radiative transfer in stellar atmospheres', 1.0),\n",
       " ('Statistical equilibrium equations for trace elements in stellar\\n  atmospheres',\n",
       "  1.0),\n",
       " ('Current status of NLTE analysis of stellar atmospheres', 1.0),\n",
       " ('Solution of NLTE Radiative Transfer Problems Using Forth-and-Back\\n  Implicit Lambda Iteration',\n",
       "  1.5)]"
      ]
     },
     "execution_count": 54,
     "metadata": {},
     "output_type": "execute_result"
    }
   ],
   "source": [
    "import random \n",
    "\n",
    "title = random.choice(df[\"title\"]) # \"Radiative transfer in stellar atmospheres\"\n",
    "\n",
    "print(title)\n",
    "find_closest(G, title, 5)"
   ]
  }
 ],
 "metadata": {
  "kernelspec": {
   "display_name": "Python 3",
   "language": "python",
   "name": "python3"
  },
  "language_info": {
   "codemirror_mode": {
    "name": "ipython",
    "version": 3
   },
   "file_extension": ".py",
   "mimetype": "text/x-python",
   "name": "python",
   "nbconvert_exporter": "python",
   "pygments_lexer": "ipython3",
   "version": "3.8.8"
  }
 },
 "nbformat": 4,
 "nbformat_minor": 5
}
