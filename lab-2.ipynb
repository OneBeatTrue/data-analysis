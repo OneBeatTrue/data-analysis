{
 "cells": [
  {
   "cell_type": "markdown",
   "id": "79053996",
   "metadata": {},
   "source": [
    "### Лабораторная работа №2\n",
    "## Рекомендательные системы\n"
   ]
  },
  {
   "cell_type": "code",
   "execution_count": 1,
   "id": "297e2490",
   "metadata": {},
   "outputs": [],
   "source": [
    "%%capture\n",
    "# !pip install feedparser transformers hf_xet plotly nbformat ipython ipywidgets ipykernel jupyterlab_widgets2"
   ]
  },
  {
   "cell_type": "code",
   "execution_count": 2,
   "id": "c72a590b",
   "metadata": {},
   "outputs": [],
   "source": [
    "# import feedparser\n",
    "# import urllib.request as libreq\n",
    "# import urllib.parse\n",
    "# import requests"
   ]
  },
  {
   "cell_type": "markdown",
   "id": "2abff31e",
   "metadata": {},
   "source": [
    "1. Выбрать датасет, подходящий для моделирования рекомендательной системы.  Хорошие источники данных: https://ods.ai/competitions/ и https://www.recsyschallenge.com/2025/ (тут можно подставлять любой год, начиная с 2016). Ещё примеры данных: https://www.aicrowd.com/challenges/spotify-million-playlist-dataset-challenge#dataset и https://boosters.pro/championship/rekko_challenge/data. Не рекомендуется брать данные с Kaggle, так как по ним часто уже есть готовый EDA и baseline. Запрещено брать датасет Movielens (любого размера)."
   ]
  },
  {
   "cell_type": "code",
   "execution_count": null,
   "id": "edf7f352",
   "metadata": {},
   "outputs": [],
   "source": []
  },
  {
   "cell_type": "markdown",
   "id": "a95236cf",
   "metadata": {},
   "source": [
    "2. Сделать разведочный анализ данных (EDA), то есть посчитать статистические показатели, построить визуализации и дать им интерпретацию, подготовить отчёт по качеству данных (пропуски, дубли, выбросы). При необходимости предобработать данные. Сделать выводы. "
   ]
  },
  {
   "cell_type": "code",
   "execution_count": null,
   "id": "32fd10dd",
   "metadata": {},
   "outputs": [],
   "source": []
  },
  {
   "cell_type": "markdown",
   "id": "6802164f",
   "metadata": {},
   "source": [
    "3. Выбрать минимум три метода формирования рекомендации. Реализовать их. Рекомендуемые методы: MostPop, UserKNN, ItemKNN, SLIM, EASE, ALS. При выборе методов старайтесь брать методы из разных семейств. "
   ]
  },
  {
   "cell_type": "code",
   "execution_count": null,
   "id": "81f9b3a3",
   "metadata": {},
   "outputs": [],
   "source": []
  },
  {
   "cell_type": "markdown",
   "id": "c5168305",
   "metadata": {},
   "source": [
    "4. Выбрать не менее трёх метрик оценки качества рекомендаций. Рассчитать их. Желательно выбирать хотя бы одну метрику, учитывающую качество ранжирования. Желательно выбрать хотя бы одну специфическую для рекомендательных систем метрику (новизна, разнообразие, неожиданность)."
   ]
  },
  {
   "cell_type": "code",
   "execution_count": null,
   "id": "577cefa1",
   "metadata": {},
   "outputs": [],
   "source": []
  },
  {
   "cell_type": "markdown",
   "id": "5678f56e",
   "metadata": {},
   "source": [
    "5. Сформулировать предложения по улучшению качества рекомендаций. Сделать выводы."
   ]
  },
  {
   "cell_type": "code",
   "execution_count": null,
   "id": "4f2fc796",
   "metadata": {},
   "outputs": [],
   "source": []
  }
 ],
 "metadata": {
  "kernelspec": {
   "display_name": "Python 3",
   "language": "python",
   "name": "python3"
  },
  "language_info": {
   "codemirror_mode": {
    "name": "ipython",
    "version": 3
   },
   "file_extension": ".py",
   "mimetype": "text/x-python",
   "name": "python",
   "nbconvert_exporter": "python",
   "pygments_lexer": "ipython3",
   "version": "3.13.5"
  }
 },
 "nbformat": 4,
 "nbformat_minor": 5
}
